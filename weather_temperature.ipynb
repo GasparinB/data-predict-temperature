{
 "cells": [
  {
   "cell_type": "markdown",
   "id": "9a626001",
   "metadata": {},
   "source": [
    "# 🌤 Weather Temperature"
   ]
  },
  {
   "cell_type": "markdown",
   "id": "a5b61daf",
   "metadata": {},
   "source": [
    "🔥 This challenge is the most important challenge of the `Recurrent Neural Network` unit. \n",
    "\n",
    "⏳ It should take at least 3 hours to complete it.\n",
    "\n",
    "🧑🏻‍🎓 Read everything carefully. \n",
    "\n",
    "💻 Coding sections are indicated with the `laptop` emoji."
   ]
  },
  {
   "cell_type": "markdown",
   "id": "2de4ba60",
   "metadata": {},
   "source": [
    "### Libraries"
   ]
  },
  {
   "cell_type": "markdown",
   "id": "c4bf7900",
   "metadata": {},
   "source": [
    "1. Let's import the usual libraries:"
   ]
  },
  {
   "cell_type": "code",
   "execution_count": 2,
   "id": "72854fd3",
   "metadata": {},
   "outputs": [],
   "source": [
    "# Data manipulation\n",
    "import numpy as np\n",
    "import pandas as pd\n",
    "\n",
    "# Data Visualiation\n",
    "import matplotlib.pyplot as plt\n",
    "import seaborn as sns\n",
    "\n",
    "# System\n",
    "import os\n",
    "\n",
    "# Deep Learning\n",
    "import tensorflow as tf"
   ]
  },
  {
   "cell_type": "markdown",
   "id": "b0ccb319",
   "metadata": {},
   "source": [
    "2. Manipulating temporal data is tricky, let's also import 📚 [`typing`](https://docs.python.org/3/library/typing.html) to check the types of variables we will be dealing with in our Python functions:"
   ]
  },
  {
   "cell_type": "code",
   "execution_count": 3,
   "id": "1e7b8b3a",
   "metadata": {},
   "outputs": [],
   "source": [
    "from typing import Dict, List, Tuple, Sequence"
   ]
  },
  {
   "cell_type": "markdown",
   "id": "2d2d840b",
   "metadata": {},
   "source": [
    "# (0) The weather temperature challenge"
   ]
  },
  {
   "cell_type": "markdown",
   "id": "d9d566e2",
   "metadata": {},
   "source": [
    "## (0.0) Introduction"
   ]
  },
  {
   "cell_type": "markdown",
   "id": "99b298eb",
   "metadata": {},
   "source": [
    "🧑🏻‍🏫 **Goals:**\n",
    "- Prepare a dataset to be fed into a Recurrent Neural Network\n",
    "- Develop a better understanding of Time Series\n",
    "\n",
    "❗️ **Warning/Disclaimer**:\n",
    "- This challenge is truly designed to help you understand **how to deal with temporal data**, using an LSTM architecture as a _tool_, not to focus on the different gates of the LSTM or designing the \"best\" recurrent network."
   ]
  },
  {
   "cell_type": "markdown",
   "id": "cdd033e7",
   "metadata": {},
   "source": [
    "🎯 **ML target**:\n",
    "* In this challenge, we want to **predict the temperature in the next 3, 6, 9, 12... hours**... \n",
    "* ...based on a sequence of weather features such as the _past temperature_, the _atmospheric pressure_, the _humidity_, etc.."
   ]
  },
  {
   "cell_type": "markdown",
   "id": "b6c7ebba",
   "metadata": {},
   "source": [
    "## (0.1) The weather dataset"
   ]
  },
  {
   "cell_type": "markdown",
   "id": "1ad48163",
   "metadata": {},
   "source": [
    "### (0.1.1) Loading the dataset"
   ]
  },
  {
   "cell_type": "markdown",
   "id": "e570de3d",
   "metadata": {},
   "source": [
    "🌤 This challenge uses a [**weather time series dataset**](https://www.bgc-jena.mpg.de/wetter/) recorded by the [**Max-Planck-Institute for Biogeochemistry**](https://www.bgc-jena.mpg.de/index.php/Main/HomePage). This dataset contains $14$ different features such as _air temperature_, _atmospheric pressure_ and _humidity_ that were collected starting in 2003 every 10 minutes (~ 420k rows). But for efficiency, you will use \"only\" the data collected between 2009 and 2016 every three hours. Indeed, this time interval seems reasonable to observe the evolution of the temperature throughout a given day.\n",
    "\n",
    "🛠 We've already performed the following feature engineering steps for you:\n",
    "- taking every $18$th record to focus on predictions every three hours $ ( 18 =  \\frac{6 records}{hour} \\times 3 hours)$\n",
    "- replacing absurd values\n",
    "- _wind_: computing the wind directions as wind vectors with coordinates (`Wx`, `Wy`)\n",
    "- computing _the daily and yearly periodicities_, stored through (`Day sin`, `Day cos`) and (`Year sin`, `Year cos`)"
   ]
  },
  {
   "cell_type": "markdown",
   "id": "6a8783b0",
   "metadata": {},
   "source": [
    "👇 Trust us and start from this already preprocessed dataset for this challenge 👇"
   ]
  },
  {
   "cell_type": "code",
   "execution_count": 4,
   "id": "d3aed492",
   "metadata": {},
   "outputs": [
    {
     "data": {
      "text/html": [
       "<div>\n",
       "<style scoped>\n",
       "    .dataframe tbody tr th:only-of-type {\n",
       "        vertical-align: middle;\n",
       "    }\n",
       "\n",
       "    .dataframe tbody tr th {\n",
       "        vertical-align: top;\n",
       "    }\n",
       "\n",
       "    .dataframe thead th {\n",
       "        text-align: right;\n",
       "    }\n",
       "</style>\n",
       "<table border=\"1\" class=\"dataframe\">\n",
       "  <thead>\n",
       "    <tr style=\"text-align: right;\">\n",
       "      <th></th>\n",
       "      <th>p (mbar)</th>\n",
       "      <th>T (degC)</th>\n",
       "      <th>Tpot (K)</th>\n",
       "      <th>Tdew (degC)</th>\n",
       "      <th>rh (%)</th>\n",
       "      <th>VPmax (mbar)</th>\n",
       "      <th>VPact (mbar)</th>\n",
       "      <th>VPdef (mbar)</th>\n",
       "      <th>sh (g/kg)</th>\n",
       "      <th>H2OC (mmol/mol)</th>\n",
       "      <th>rho (g/m**3)</th>\n",
       "      <th>Wx</th>\n",
       "      <th>Wy</th>\n",
       "      <th>max Wx</th>\n",
       "      <th>max Wy</th>\n",
       "      <th>Day_sin</th>\n",
       "      <th>Day_cos</th>\n",
       "      <th>Year_sin</th>\n",
       "      <th>Year_cos</th>\n",
       "    </tr>\n",
       "  </thead>\n",
       "  <tbody>\n",
       "    <tr>\n",
       "      <th>0</th>\n",
       "      <td>996.84</td>\n",
       "      <td>-8.81</td>\n",
       "      <td>264.59</td>\n",
       "      <td>-9.66</td>\n",
       "      <td>93.50</td>\n",
       "      <td>3.13</td>\n",
       "      <td>2.93</td>\n",
       "      <td>0.20</td>\n",
       "      <td>1.83</td>\n",
       "      <td>2.94</td>\n",
       "      <td>1312.18</td>\n",
       "      <td>-0.175527</td>\n",
       "      <td>0.039879</td>\n",
       "      <td>-0.614344</td>\n",
       "      <td>0.139576</td>\n",
       "      <td>7.071068e-01</td>\n",
       "      <td>7.071068e-01</td>\n",
       "      <td>0.011483</td>\n",
       "      <td>0.999934</td>\n",
       "    </tr>\n",
       "    <tr>\n",
       "      <th>1</th>\n",
       "      <td>997.71</td>\n",
       "      <td>-9.67</td>\n",
       "      <td>263.66</td>\n",
       "      <td>-10.62</td>\n",
       "      <td>92.70</td>\n",
       "      <td>2.93</td>\n",
       "      <td>2.71</td>\n",
       "      <td>0.21</td>\n",
       "      <td>1.69</td>\n",
       "      <td>2.72</td>\n",
       "      <td>1317.71</td>\n",
       "      <td>-0.041452</td>\n",
       "      <td>0.027960</td>\n",
       "      <td>-0.414519</td>\n",
       "      <td>0.279596</td>\n",
       "      <td>1.000000e+00</td>\n",
       "      <td>4.339955e-12</td>\n",
       "      <td>0.013633</td>\n",
       "      <td>0.999907</td>\n",
       "    </tr>\n",
       "    <tr>\n",
       "      <th>2</th>\n",
       "      <td>999.69</td>\n",
       "      <td>-7.66</td>\n",
       "      <td>265.52</td>\n",
       "      <td>-8.84</td>\n",
       "      <td>91.20</td>\n",
       "      <td>3.43</td>\n",
       "      <td>3.13</td>\n",
       "      <td>0.30</td>\n",
       "      <td>1.95</td>\n",
       "      <td>3.13</td>\n",
       "      <td>1310.14</td>\n",
       "      <td>-0.314796</td>\n",
       "      <td>-0.128466</td>\n",
       "      <td>-0.583298</td>\n",
       "      <td>-0.238040</td>\n",
       "      <td>7.071068e-01</td>\n",
       "      <td>-7.071068e-01</td>\n",
       "      <td>0.015783</td>\n",
       "      <td>0.999875</td>\n",
       "    </tr>\n",
       "    <tr>\n",
       "      <th>3</th>\n",
       "      <td>1000.30</td>\n",
       "      <td>-6.87</td>\n",
       "      <td>266.27</td>\n",
       "      <td>-8.28</td>\n",
       "      <td>89.60</td>\n",
       "      <td>3.64</td>\n",
       "      <td>3.27</td>\n",
       "      <td>0.38</td>\n",
       "      <td>2.03</td>\n",
       "      <td>3.26</td>\n",
       "      <td>1306.98</td>\n",
       "      <td>-1.834577</td>\n",
       "      <td>-0.141163</td>\n",
       "      <td>-2.622249</td>\n",
       "      <td>-0.201771</td>\n",
       "      <td>6.903299e-12</td>\n",
       "      <td>-1.000000e+00</td>\n",
       "      <td>0.017933</td>\n",
       "      <td>0.999839</td>\n",
       "    </tr>\n",
       "    <tr>\n",
       "      <th>4</th>\n",
       "      <td>999.88</td>\n",
       "      <td>-5.69</td>\n",
       "      <td>267.48</td>\n",
       "      <td>-7.00</td>\n",
       "      <td>90.40</td>\n",
       "      <td>3.99</td>\n",
       "      <td>3.61</td>\n",
       "      <td>0.38</td>\n",
       "      <td>2.25</td>\n",
       "      <td>3.61</td>\n",
       "      <td>1300.51</td>\n",
       "      <td>-0.825870</td>\n",
       "      <td>0.828758</td>\n",
       "      <td>-1.327039</td>\n",
       "      <td>1.331679</td>\n",
       "      <td>-7.071068e-01</td>\n",
       "      <td>-7.071068e-01</td>\n",
       "      <td>0.020083</td>\n",
       "      <td>0.999798</td>\n",
       "    </tr>\n",
       "    <tr>\n",
       "      <th>...</th>\n",
       "      <td>...</td>\n",
       "      <td>...</td>\n",
       "      <td>...</td>\n",
       "      <td>...</td>\n",
       "      <td>...</td>\n",
       "      <td>...</td>\n",
       "      <td>...</td>\n",
       "      <td>...</td>\n",
       "      <td>...</td>\n",
       "      <td>...</td>\n",
       "      <td>...</td>\n",
       "      <td>...</td>\n",
       "      <td>...</td>\n",
       "      <td>...</td>\n",
       "      <td>...</td>\n",
       "      <td>...</td>\n",
       "      <td>...</td>\n",
       "      <td>...</td>\n",
       "      <td>...</td>\n",
       "    </tr>\n",
       "    <tr>\n",
       "      <th>23358</th>\n",
       "      <td>1006.23</td>\n",
       "      <td>-6.31</td>\n",
       "      <td>266.37</td>\n",
       "      <td>-8.42</td>\n",
       "      <td>84.90</td>\n",
       "      <td>3.81</td>\n",
       "      <td>3.23</td>\n",
       "      <td>0.57</td>\n",
       "      <td>2.00</td>\n",
       "      <td>3.21</td>\n",
       "      <td>1312.01</td>\n",
       "      <td>-1.279930</td>\n",
       "      <td>-0.013404</td>\n",
       "      <td>-1.839899</td>\n",
       "      <td>-0.019268</td>\n",
       "      <td>6.755902e-01</td>\n",
       "      <td>-7.372773e-01</td>\n",
       "      <td>-0.000268</td>\n",
       "      <td>1.000000</td>\n",
       "    </tr>\n",
       "    <tr>\n",
       "      <th>23359</th>\n",
       "      <td>1004.62</td>\n",
       "      <td>-0.71</td>\n",
       "      <td>272.09</td>\n",
       "      <td>-5.97</td>\n",
       "      <td>67.37</td>\n",
       "      <td>5.80</td>\n",
       "      <td>3.91</td>\n",
       "      <td>1.89</td>\n",
       "      <td>2.42</td>\n",
       "      <td>3.89</td>\n",
       "      <td>1282.65</td>\n",
       "      <td>-0.976457</td>\n",
       "      <td>-0.412471</td>\n",
       "      <td>-1.916066</td>\n",
       "      <td>-0.809378</td>\n",
       "      <td>-4.361939e-02</td>\n",
       "      <td>-9.990482e-01</td>\n",
       "      <td>0.001883</td>\n",
       "      <td>0.999998</td>\n",
       "    </tr>\n",
       "    <tr>\n",
       "      <th>23360</th>\n",
       "      <td>1003.09</td>\n",
       "      <td>4.97</td>\n",
       "      <td>277.88</td>\n",
       "      <td>-3.04</td>\n",
       "      <td>56.03</td>\n",
       "      <td>8.71</td>\n",
       "      <td>4.88</td>\n",
       "      <td>3.83</td>\n",
       "      <td>3.03</td>\n",
       "      <td>4.86</td>\n",
       "      <td>1254.09</td>\n",
       "      <td>-0.403185</td>\n",
       "      <td>-0.359224</td>\n",
       "      <td>-0.776504</td>\n",
       "      <td>-0.691840</td>\n",
       "      <td>-7.372773e-01</td>\n",
       "      <td>-6.755902e-01</td>\n",
       "      <td>0.004033</td>\n",
       "      <td>0.999992</td>\n",
       "    </tr>\n",
       "    <tr>\n",
       "      <th>23361</th>\n",
       "      <td>1002.27</td>\n",
       "      <td>-0.42</td>\n",
       "      <td>272.56</td>\n",
       "      <td>-4.92</td>\n",
       "      <td>71.50</td>\n",
       "      <td>5.92</td>\n",
       "      <td>4.23</td>\n",
       "      <td>1.69</td>\n",
       "      <td>2.63</td>\n",
       "      <td>4.22</td>\n",
       "      <td>1278.14</td>\n",
       "      <td>-0.266024</td>\n",
       "      <td>-0.350473</td>\n",
       "      <td>-0.604599</td>\n",
       "      <td>-0.796530</td>\n",
       "      <td>-9.990482e-01</td>\n",
       "      <td>4.361939e-02</td>\n",
       "      <td>0.006183</td>\n",
       "      <td>0.999981</td>\n",
       "    </tr>\n",
       "    <tr>\n",
       "      <th>23362</th>\n",
       "      <td>1001.19</td>\n",
       "      <td>-2.75</td>\n",
       "      <td>270.32</td>\n",
       "      <td>-6.90</td>\n",
       "      <td>72.90</td>\n",
       "      <td>4.99</td>\n",
       "      <td>3.64</td>\n",
       "      <td>1.35</td>\n",
       "      <td>2.26</td>\n",
       "      <td>3.63</td>\n",
       "      <td>1288.02</td>\n",
       "      <td>-0.661501</td>\n",
       "      <td>0.257908</td>\n",
       "      <td>-1.453438</td>\n",
       "      <td>0.566672</td>\n",
       "      <td>-6.755902e-01</td>\n",
       "      <td>7.372773e-01</td>\n",
       "      <td>0.008334</td>\n",
       "      <td>0.999965</td>\n",
       "    </tr>\n",
       "  </tbody>\n",
       "</table>\n",
       "<p>23363 rows × 19 columns</p>\n",
       "</div>"
      ],
      "text/plain": [
       "       p (mbar)  T (degC)  Tpot (K)  Tdew (degC)  rh (%)  VPmax (mbar)  \\\n",
       "0        996.84     -8.81    264.59        -9.66   93.50          3.13   \n",
       "1        997.71     -9.67    263.66       -10.62   92.70          2.93   \n",
       "2        999.69     -7.66    265.52        -8.84   91.20          3.43   \n",
       "3       1000.30     -6.87    266.27        -8.28   89.60          3.64   \n",
       "4        999.88     -5.69    267.48        -7.00   90.40          3.99   \n",
       "...         ...       ...       ...          ...     ...           ...   \n",
       "23358   1006.23     -6.31    266.37        -8.42   84.90          3.81   \n",
       "23359   1004.62     -0.71    272.09        -5.97   67.37          5.80   \n",
       "23360   1003.09      4.97    277.88        -3.04   56.03          8.71   \n",
       "23361   1002.27     -0.42    272.56        -4.92   71.50          5.92   \n",
       "23362   1001.19     -2.75    270.32        -6.90   72.90          4.99   \n",
       "\n",
       "       VPact (mbar)  VPdef (mbar)  sh (g/kg)  H2OC (mmol/mol)  rho (g/m**3)  \\\n",
       "0              2.93          0.20       1.83             2.94       1312.18   \n",
       "1              2.71          0.21       1.69             2.72       1317.71   \n",
       "2              3.13          0.30       1.95             3.13       1310.14   \n",
       "3              3.27          0.38       2.03             3.26       1306.98   \n",
       "4              3.61          0.38       2.25             3.61       1300.51   \n",
       "...             ...           ...        ...              ...           ...   \n",
       "23358          3.23          0.57       2.00             3.21       1312.01   \n",
       "23359          3.91          1.89       2.42             3.89       1282.65   \n",
       "23360          4.88          3.83       3.03             4.86       1254.09   \n",
       "23361          4.23          1.69       2.63             4.22       1278.14   \n",
       "23362          3.64          1.35       2.26             3.63       1288.02   \n",
       "\n",
       "             Wx        Wy    max Wx    max Wy       Day_sin       Day_cos  \\\n",
       "0     -0.175527  0.039879 -0.614344  0.139576  7.071068e-01  7.071068e-01   \n",
       "1     -0.041452  0.027960 -0.414519  0.279596  1.000000e+00  4.339955e-12   \n",
       "2     -0.314796 -0.128466 -0.583298 -0.238040  7.071068e-01 -7.071068e-01   \n",
       "3     -1.834577 -0.141163 -2.622249 -0.201771  6.903299e-12 -1.000000e+00   \n",
       "4     -0.825870  0.828758 -1.327039  1.331679 -7.071068e-01 -7.071068e-01   \n",
       "...         ...       ...       ...       ...           ...           ...   \n",
       "23358 -1.279930 -0.013404 -1.839899 -0.019268  6.755902e-01 -7.372773e-01   \n",
       "23359 -0.976457 -0.412471 -1.916066 -0.809378 -4.361939e-02 -9.990482e-01   \n",
       "23360 -0.403185 -0.359224 -0.776504 -0.691840 -7.372773e-01 -6.755902e-01   \n",
       "23361 -0.266024 -0.350473 -0.604599 -0.796530 -9.990482e-01  4.361939e-02   \n",
       "23362 -0.661501  0.257908 -1.453438  0.566672 -6.755902e-01  7.372773e-01   \n",
       "\n",
       "       Year_sin  Year_cos  \n",
       "0      0.011483  0.999934  \n",
       "1      0.013633  0.999907  \n",
       "2      0.015783  0.999875  \n",
       "3      0.017933  0.999839  \n",
       "4      0.020083  0.999798  \n",
       "...         ...       ...  \n",
       "23358 -0.000268  1.000000  \n",
       "23359  0.001883  0.999998  \n",
       "23360  0.004033  0.999992  \n",
       "23361  0.006183  0.999981  \n",
       "23362  0.008334  0.999965  \n",
       "\n",
       "[23363 rows x 19 columns]"
      ]
     },
     "execution_count": 4,
     "metadata": {},
     "output_type": "execute_result"
    }
   ],
   "source": [
    "url = \"https://wagon-public-datasets.s3.amazonaws.com/deep_learning_datasets/weather_every_three_hours_engineered.csv\"\n",
    "df = pd.read_csv(url).drop(columns = ['Unnamed: 0'])\n",
    "df"
   ]
  },
  {
   "cell_type": "markdown",
   "id": "fd72725e",
   "metadata": {},
   "source": [
    "👆 In the preprocessed dataset, we have :\n",
    "- $23$k rows  (~ 8 years of weather data)\n",
    "- $19$ features composed of:\n",
    "    - $1$ <font color=green>**target**</font> (we will use the past values of the temperature as a feature)\n",
    "    - $18$ <font color=orange>**past covariates**</font> (= features which past values are known)\n",
    "    - $0$ <font color=blue>**future covariates**</font> (= features which future values are known, e.g. public holidays)\n",
    "\n",
    "    \n",
    "<img src='https://github.com/lewagon/data-images/blob/master/DL/time-series-covariates.png?raw=true' width=800>\n",
    "\n",
    "👨🏻‍🏫 This weather dataset is a DataFrame (dimension = 2) which is a single Time Series from the beginning of 2009 to the end 2016 with records every 3 hours.\n",
    "\n",
    "* `df.shape = (n_timesteps, n_features) = (23363, 19)`\n",
    "\n",
    "<details>\n",
    "    <summary>We have in total 8 years of data</summary>\n",
    "\n",
    "$ \\frac{23363 records}{365 \\frac{days}{year} \\times 24 \\frac{hours}{day} \\times \\frac{1 record}{3 hours}} = \\frac{23363 records}{2920 \\frac{records}{year}} = 8 years = (2016 - 2009 + 1 ) years$\n",
    "    \n",
    "</details>\n",
    "\n",
    "🎯 The goal is to predict the temperature in 3, 6, 9, 12, ... hours using the past values."
   ]
  },
  {
   "cell_type": "code",
   "execution_count": 5,
   "id": "55308722",
   "metadata": {},
   "outputs": [],
   "source": [
    "# Let's define the global variables of our dataset\n",
    "TARGET = 'T (degC)'\n",
    "N_TARGETS = 1\n",
    "N_FEATURES = 19"
   ]
  },
  {
   "cell_type": "markdown",
   "id": "7df17fff",
   "metadata": {},
   "source": [
    "### (0.0.2) Visualising your Time Series"
   ]
  },
  {
   "cell_type": "markdown",
   "id": "dd24e388",
   "metadata": {},
   "source": [
    "📈  Here is the ***evolution of some features over time***:\n",
    "* `T (degC)` (temperature)\n",
    "* `p (mbar)` (atmospheric pressure)\n",
    "* `rho (g/m**3)` (atmospheric density)\n",
    "\n"
   ]
  },
  {
   "cell_type": "code",
   "execution_count": 6,
   "id": "f1204477",
   "metadata": {},
   "outputs": [
    {
     "data": {
      "image/png": "[encoded data removed]",
      "text/plain": [
       "<Figure size 640x480 with 3 Axes>"
      ]
     },
     "metadata": {},
     "output_type": "display_data"
    }
   ],
   "source": [
    "plot_cols = [TARGET, 'p (mbar)', 'rho (g/m**3)']\n",
    "plot_features = df[plot_cols]\n",
    "plot_features.index = df.index\n",
    "plot_features.plot(subplots = True);"
   ]
  },
  {
   "cell_type": "code",
   "execution_count": 7,
   "id": "76ba183c",
   "metadata": {},
   "outputs": [
    {
     "data": {
      "image/png": "[encoded data removed]",
      "text/plain": [
       "<Figure size 640x480 with 3 Axes>"
      ]
     },
     "metadata": {},
     "output_type": "display_data"
    }
   ],
   "source": [
    "zoomed_slice = slice(1000,1100)\n",
    "\n",
    "plot_features = df.loc[zoomed_slice, plot_cols]\n",
    "plot_features.plot(subplots = True);"
   ]
  },
  {
   "cell_type": "markdown",
   "id": "b1e02aad",
   "metadata": {},
   "source": [
    "# (1) Prepare the dataset"
   ]
  },
  {
   "cell_type": "markdown",
   "id": "5cb1fa2c",
   "metadata": {},
   "source": [
    "##  (1.0) The big picture"
   ]
  },
  {
   "cell_type": "markdown",
   "id": "ba33355b",
   "metadata": {},
   "source": [
    "<b><u>Step 1: Cross-Validation in Time Series [FOLDS] </u></b>\n",
    "\n",
    "* Starting from this single Time Series, we will create <font color=\"#c91ac9\">**FOLDS**</font>...\n",
    "* ... and train/evaluate our LSTM on these different <font color=\"#c91ac9\">**FOLDS**</font> to conclude about the robustness of the neural network\n",
    "* It is very common to create ***hundreds*** of <font color=\"#c91ac9\">**FOLDS**</font> in Time Series forecasting, in order to cover all types of external conditions: e.g.\n",
    "    - crash market periods 📉\n",
    "    - bull markets 📈\n",
    "    - atone markets 😴, etc...\n",
    "\n",
    "<b><u>Step 2: Holdout method within each fold [TRAIN-TEST SPLIT]</u></b>\n",
    "\n",
    "* For each <font color=\"#c91ac9\">**FOLD**</font>, we will do a TRAIN-TEST SPLIT to:\n",
    "    * <font color=blue>**fit**</font> the model on the <font color=blue>**train**</font> set \n",
    "    * and <font color=\"#ff8005\">**evaluate**</font> it on the <font color=\"#ff8005\">**test**</font> set\n",
    "    * Always split the train set **chronologically** before the test set!\n",
    "\n",
    "👇 The first two steps can be summarized in the following image that contains 4 FOLDS:\n",
    "\n",
    "<img src=\"https://bit.ly/3yLoa92\" alt=\"Time Series Cross Validation\" width=\"500\">\n",
    "\n",
    "\n",
    "<b><u>Step 3: Sampling SEQUENCES in both the train set and the test set</u></b>\n",
    "\n",
    "In each <font color=blue>**train**</font> set and each <font color=\"#ff8005\">**test**</font> set, we will create <font color=magenta>**random sequences**</font> as illustrated down below 👇:\n",
    "\n",
    "<img src=\"https://bit.ly/3Ri8Vfd\" alt=\"Sequences in each fold\" width=\"500\"> \n",
    "\n"
   ]
  },
  {
   "cell_type": "markdown",
   "id": "82976f1a",
   "metadata": {},
   "source": [
    "## (1.1) 💻 Creating  <font color=\"#c91ac9\">**FOLDS**</font> for cross-validation\n",
    "\n",
    "Each of them with shape `(FOLD_LENGTH, n_features)` "
   ]
  },
  {
   "cell_type": "markdown",
   "id": "c37f4ab6",
   "metadata": {},
   "source": [
    "🌐 Let's define some global variables that we will use for our tests everywhere in this notebook:"
   ]
  },
  {
   "cell_type": "code",
   "execution_count": 8,
   "id": "e41315ff",
   "metadata": {},
   "outputs": [],
   "source": [
    "# --------------------------------------------------- #\n",
    "# Let's consider FOLDS with a length of 3 years       #\n",
    "# (2 years will be used for train, 1 for test!)       #\n",
    "# --------------------------------------------------- #\n",
    "\n",
    "FOLD_LENGTH = 8*365 * 3 # every 3 hrs x 8 = 24h\n",
    "                        # three years\n",
    "\n",
    "# --------------------------------------------------- #\n",
    "# Let's consider FOLDS starting every trimester       #\n",
    "# --------------------------------------------------- #\n",
    "    \n",
    "FOLD_STRIDE = 8*91 # every 3 hrs x 8 = 24h\n",
    "                   # 1 quarter = 91 days\n",
    "\n",
    "# --------------------------------------------------- #\n",
    "# Let's consider a train-test-split ratio of 2/3      #\n",
    "# --------------------------------------------------- #\n",
    "\n",
    "TRAIN_TEST_RATIO = 0.66"
   ]
  },
  {
   "cell_type": "markdown",
   "id": "2dcb8e86",
   "metadata": {},
   "source": [
    "💻 ❓ **Question (<font color=\"#c91ac9\">FOLDS</font>)** ❓\n",
    "\n",
    "Code the function `get_folds` below that we will use to create folds  `folds = get_folds(df, FOLD_LENGTH, FOLD_STRIDE)`"
   ]
  },
  {
   "cell_type": "code",
   "execution_count": 14,
   "id": "cc2f5d85",
   "metadata": {},
   "outputs": [],
   "source": [
    "def get_folds(\n",
    "    df: pd.DataFrame,\n",
    "    fold_length: int,\n",
    "    fold_stride: int) -> List[pd.DataFrame]:\n",
    "    \"\"\"    \n",
    "    This function slides through the Time Series dataframe of shape (n_timesteps, n_features) to create folds\n",
    "    - of equal `fold_length`\n",
    "    - using `fold_stride` between each fold\n",
    "\n",
    "    Args:\n",
    "        df (pd.DataFrame): Overall dataframe\n",
    "        fold_length (int): How long each fold should be in rows\n",
    "        fold_stride (int): How many timesteps to move forward between taking each fold\n",
    "\n",
    "    Returns:\n",
    "        List[pd.DataFrame]: A list where each fold is a dataframe within\n",
    "    \"\"\"\n",
    "    folds = []\n",
    "    n_timesteps = len(df)\n",
    "    \n",
    "    for start in range(0, n_timesteps - fold_length +1,fold_stride):\n",
    "        stop = start + fold_length\n",
    "        fold = df.iloc[start:stop,:]\n",
    "        folds.append(fold)\n",
    "        \n",
    "    return folds"
   ]
  },
  {
   "cell_type": "markdown",
   "id": "a0a77f1b",
   "metadata": {},
   "source": [
    "🧪 ***Test your code***"
   ]
  },
  {
   "cell_type": "code",
   "execution_count": 15,
   "id": "f49ecb8c",
   "metadata": {},
   "outputs": [
    {
     "name": "stdout",
     "output_type": "stream",
     "text": [
      "The function generated 21 folds.\n",
      "Each fold has a shape equal to (8760, 19).\n"
     ]
    }
   ],
   "source": [
    "folds = get_folds(df, FOLD_LENGTH, FOLD_STRIDE)\n",
    "\n",
    "print(f'The function generated {len(folds)} folds.')\n",
    "print(f'Each fold has a shape equal to {folds[0].shape}.')"
   ]
  },
  {
   "cell_type": "code",
   "execution_count": 16,
   "id": "10ca6b70",
   "metadata": {},
   "outputs": [
    {
     "name": "stdout",
     "output_type": "stream",
     "text": [
      "\n",
      "\u001b[1m============================= test session starts ==============================\u001b[0m\n",
      "platform darwin -- Python 3.10.6, pytest-7.1.3, pluggy-1.0.0 -- /Users/gasparburgi/.pyenv/versions/lewagon/bin/python3\n",
      "cachedir: .pytest_cache\n",
      "rootdir: /Users/gasparburgi/code/GasparinB/06-Deep-Learning/04-Recurrent-Neural-Networks/data-predict-temperature/tests\n",
      "plugins: asyncio-0.19.0, typeguard-2.13.3, anyio-3.6.2\n",
      "asyncio: mode=strict\n",
      "\u001b[1mcollecting ... \u001b[0mcollected 2 items\n",
      "\n",
      "test_folds.py::TestFolds::test_variable_fold_shape \u001b[32mPASSED\u001b[0m\u001b[32m                [ 50%]\u001b[0m\n",
      "test_folds.py::TestFolds::test_variable_number_of_folds \u001b[32mPASSED\u001b[0m\u001b[32m           [100%]\u001b[0m\n",
      "\n",
      "\u001b[32m============================== \u001b[32m\u001b[1m2 passed\u001b[0m\u001b[32m in 0.01s\u001b[0m\u001b[32m ===============================\u001b[0m\n",
      "\n",
      "\n",
      "💯 You can commit your code:\n",
      "\n",
      "\u001b[1;32mgit\u001b[39m add tests/folds.pickle\n",
      "\n",
      "\u001b[32mgit\u001b[39m commit -m \u001b[33m'Completed folds step'\u001b[39m\n",
      "\n",
      "\u001b[32mgit\u001b[39m push origin master\n",
      "\n"
     ]
    }
   ],
   "source": [
    "from nbresult import ChallengeResult\n",
    "\n",
    "result = ChallengeResult('folds',\n",
    "                         number_of_folds = len(folds),\n",
    "                         fold_shape = folds[0].shape)\n",
    "result.write()\n",
    "print(result.check())"
   ]
  },
  {
   "cell_type": "code",
   "execution_count": 17,
   "id": "77015ff8",
   "metadata": {},
   "outputs": [
    {
     "name": "stdout",
     "output_type": "stream",
     "text": [
      "[master fb4b71f] Completed folds step\n",
      " 1 file changed, 0 insertions(+), 0 deletions(-)\n",
      " create mode 100644 tests/folds.pickle\n",
      "Enumerating objects: 14, done.\n",
      "Counting objects: 100% (14/14), done.\n",
      "Delta compression using up to 8 threads\n",
      "Compressing objects: 100% (14/14), done.\n",
      "Writing objects: 100% (14/14), 13.33 KiB | 4.44 MiB/s, done.\n",
      "Total 14 (delta 3), reused 0 (delta 0), pack-reused 0\n",
      "remote: Resolving deltas: 100% (3/3), done.\u001b[K\n",
      "To github.com:GasparinB/data-predict-temperature.git\n",
      " * [new branch]      master -> master\n"
     ]
    }
   ],
   "source": [
    "!git add tests/folds.pickle\n",
    "\n",
    "!git commit -m 'Completed folds step'\n",
    "\n",
    "!git push origin master"
   ]
  },
  {
   "cell_type": "markdown",
   "id": "d51b5bef",
   "metadata": {},
   "source": [
    "☝️ This amount of <font color=\"#c91ac9\">**FOLDS**</font> should be enough to cross-validate our model correctly !"
   ]
  },
  {
   "cell_type": "markdown",
   "id": "fd4e92fe",
   "metadata": {},
   "source": [
    "## (1.2) 💻 Temporal <font color=blue>**Train**</font>/<font color=\"#ff8005\">**Test**</font> Split"
   ]
  },
  {
   "cell_type": "markdown",
   "id": "d89cf4fc",
   "metadata": {},
   "source": [
    "👩🏻‍🏫 Let's focus on one fold for the moment."
   ]
  },
  {
   "cell_type": "code",
   "execution_count": 18,
   "id": "988c7b3a",
   "metadata": {},
   "outputs": [
    {
     "data": {
      "text/html": [
       "<div>\n",
       "<style scoped>\n",
       "    .dataframe tbody tr th:only-of-type {\n",
       "        vertical-align: middle;\n",
       "    }\n",
       "\n",
       "    .dataframe tbody tr th {\n",
       "        vertical-align: top;\n",
       "    }\n",
       "\n",
       "    .dataframe thead th {\n",
       "        text-align: right;\n",
       "    }\n",
       "</style>\n",
       "<table border=\"1\" class=\"dataframe\">\n",
       "  <thead>\n",
       "    <tr style=\"text-align: right;\">\n",
       "      <th></th>\n",
       "      <th>p (mbar)</th>\n",
       "      <th>T (degC)</th>\n",
       "      <th>Tpot (K)</th>\n",
       "      <th>Tdew (degC)</th>\n",
       "      <th>rh (%)</th>\n",
       "      <th>VPmax (mbar)</th>\n",
       "      <th>VPact (mbar)</th>\n",
       "      <th>VPdef (mbar)</th>\n",
       "      <th>sh (g/kg)</th>\n",
       "      <th>H2OC (mmol/mol)</th>\n",
       "      <th>rho (g/m**3)</th>\n",
       "      <th>Wx</th>\n",
       "      <th>Wy</th>\n",
       "      <th>max Wx</th>\n",
       "      <th>max Wy</th>\n",
       "      <th>Day_sin</th>\n",
       "      <th>Day_cos</th>\n",
       "      <th>Year_sin</th>\n",
       "      <th>Year_cos</th>\n",
       "    </tr>\n",
       "  </thead>\n",
       "  <tbody>\n",
       "    <tr>\n",
       "      <th>0</th>\n",
       "      <td>996.84</td>\n",
       "      <td>-8.81</td>\n",
       "      <td>264.59</td>\n",
       "      <td>-9.66</td>\n",
       "      <td>93.5</td>\n",
       "      <td>3.13</td>\n",
       "      <td>2.93</td>\n",
       "      <td>0.20</td>\n",
       "      <td>1.83</td>\n",
       "      <td>2.94</td>\n",
       "      <td>1312.18</td>\n",
       "      <td>-0.175527</td>\n",
       "      <td>0.039879</td>\n",
       "      <td>-0.614344</td>\n",
       "      <td>0.139576</td>\n",
       "      <td>7.071068e-01</td>\n",
       "      <td>7.071068e-01</td>\n",
       "      <td>0.011483</td>\n",
       "      <td>0.999934</td>\n",
       "    </tr>\n",
       "    <tr>\n",
       "      <th>1</th>\n",
       "      <td>997.71</td>\n",
       "      <td>-9.67</td>\n",
       "      <td>263.66</td>\n",
       "      <td>-10.62</td>\n",
       "      <td>92.7</td>\n",
       "      <td>2.93</td>\n",
       "      <td>2.71</td>\n",
       "      <td>0.21</td>\n",
       "      <td>1.69</td>\n",
       "      <td>2.72</td>\n",
       "      <td>1317.71</td>\n",
       "      <td>-0.041452</td>\n",
       "      <td>0.027960</td>\n",
       "      <td>-0.414519</td>\n",
       "      <td>0.279596</td>\n",
       "      <td>1.000000e+00</td>\n",
       "      <td>4.339955e-12</td>\n",
       "      <td>0.013633</td>\n",
       "      <td>0.999907</td>\n",
       "    </tr>\n",
       "    <tr>\n",
       "      <th>2</th>\n",
       "      <td>999.69</td>\n",
       "      <td>-7.66</td>\n",
       "      <td>265.52</td>\n",
       "      <td>-8.84</td>\n",
       "      <td>91.2</td>\n",
       "      <td>3.43</td>\n",
       "      <td>3.13</td>\n",
       "      <td>0.30</td>\n",
       "      <td>1.95</td>\n",
       "      <td>3.13</td>\n",
       "      <td>1310.14</td>\n",
       "      <td>-0.314796</td>\n",
       "      <td>-0.128466</td>\n",
       "      <td>-0.583298</td>\n",
       "      <td>-0.238040</td>\n",
       "      <td>7.071068e-01</td>\n",
       "      <td>-7.071068e-01</td>\n",
       "      <td>0.015783</td>\n",
       "      <td>0.999875</td>\n",
       "    </tr>\n",
       "    <tr>\n",
       "      <th>3</th>\n",
       "      <td>1000.30</td>\n",
       "      <td>-6.87</td>\n",
       "      <td>266.27</td>\n",
       "      <td>-8.28</td>\n",
       "      <td>89.6</td>\n",
       "      <td>3.64</td>\n",
       "      <td>3.27</td>\n",
       "      <td>0.38</td>\n",
       "      <td>2.03</td>\n",
       "      <td>3.26</td>\n",
       "      <td>1306.98</td>\n",
       "      <td>-1.834577</td>\n",
       "      <td>-0.141163</td>\n",
       "      <td>-2.622249</td>\n",
       "      <td>-0.201771</td>\n",
       "      <td>6.903299e-12</td>\n",
       "      <td>-1.000000e+00</td>\n",
       "      <td>0.017933</td>\n",
       "      <td>0.999839</td>\n",
       "    </tr>\n",
       "    <tr>\n",
       "      <th>4</th>\n",
       "      <td>999.88</td>\n",
       "      <td>-5.69</td>\n",
       "      <td>267.48</td>\n",
       "      <td>-7.00</td>\n",
       "      <td>90.4</td>\n",
       "      <td>3.99</td>\n",
       "      <td>3.61</td>\n",
       "      <td>0.38</td>\n",
       "      <td>2.25</td>\n",
       "      <td>3.61</td>\n",
       "      <td>1300.51</td>\n",
       "      <td>-0.825870</td>\n",
       "      <td>0.828758</td>\n",
       "      <td>-1.327039</td>\n",
       "      <td>1.331679</td>\n",
       "      <td>-7.071068e-01</td>\n",
       "      <td>-7.071068e-01</td>\n",
       "      <td>0.020083</td>\n",
       "      <td>0.999798</td>\n",
       "    </tr>\n",
       "    <tr>\n",
       "      <th>...</th>\n",
       "      <td>...</td>\n",
       "      <td>...</td>\n",
       "      <td>...</td>\n",
       "      <td>...</td>\n",
       "      <td>...</td>\n",
       "      <td>...</td>\n",
       "      <td>...</td>\n",
       "      <td>...</td>\n",
       "      <td>...</td>\n",
       "      <td>...</td>\n",
       "      <td>...</td>\n",
       "      <td>...</td>\n",
       "      <td>...</td>\n",
       "      <td>...</td>\n",
       "      <td>...</td>\n",
       "      <td>...</td>\n",
       "      <td>...</td>\n",
       "      <td>...</td>\n",
       "      <td>...</td>\n",
       "    </tr>\n",
       "    <tr>\n",
       "      <th>8755</th>\n",
       "      <td>980.34</td>\n",
       "      <td>1.45</td>\n",
       "      <td>276.18</td>\n",
       "      <td>0.03</td>\n",
       "      <td>90.2</td>\n",
       "      <td>6.79</td>\n",
       "      <td>6.12</td>\n",
       "      <td>0.67</td>\n",
       "      <td>3.89</td>\n",
       "      <td>6.24</td>\n",
       "      <td>1240.67</td>\n",
       "      <td>-0.604351</td>\n",
       "      <td>-3.731375</td>\n",
       "      <td>-1.191115</td>\n",
       "      <td>-7.354165</td>\n",
       "      <td>-8.715574e-02</td>\n",
       "      <td>-9.961947e-01</td>\n",
       "      <td>-0.028744</td>\n",
       "      <td>0.999587</td>\n",
       "    </tr>\n",
       "    <tr>\n",
       "      <th>8756</th>\n",
       "      <td>983.25</td>\n",
       "      <td>2.23</td>\n",
       "      <td>276.73</td>\n",
       "      <td>0.21</td>\n",
       "      <td>86.4</td>\n",
       "      <td>7.18</td>\n",
       "      <td>6.20</td>\n",
       "      <td>0.98</td>\n",
       "      <td>3.93</td>\n",
       "      <td>6.31</td>\n",
       "      <td>1240.81</td>\n",
       "      <td>-0.432628</td>\n",
       "      <td>-2.126437</td>\n",
       "      <td>-0.849307</td>\n",
       "      <td>-4.174479</td>\n",
       "      <td>-7.660444e-01</td>\n",
       "      <td>-6.427876e-01</td>\n",
       "      <td>-0.026594</td>\n",
       "      <td>0.999646</td>\n",
       "    </tr>\n",
       "    <tr>\n",
       "      <th>8757</th>\n",
       "      <td>985.46</td>\n",
       "      <td>1.69</td>\n",
       "      <td>276.00</td>\n",
       "      <td>-0.52</td>\n",
       "      <td>85.2</td>\n",
       "      <td>6.90</td>\n",
       "      <td>5.88</td>\n",
       "      <td>1.02</td>\n",
       "      <td>3.72</td>\n",
       "      <td>5.97</td>\n",
       "      <td>1246.23</td>\n",
       "      <td>-0.626578</td>\n",
       "      <td>-2.513066</td>\n",
       "      <td>-0.977364</td>\n",
       "      <td>-3.919995</td>\n",
       "      <td>-9.961947e-01</td>\n",
       "      <td>8.715574e-02</td>\n",
       "      <td>-0.024445</td>\n",
       "      <td>0.999701</td>\n",
       "    </tr>\n",
       "    <tr>\n",
       "      <th>8758</th>\n",
       "      <td>986.63</td>\n",
       "      <td>2.16</td>\n",
       "      <td>276.38</td>\n",
       "      <td>-1.14</td>\n",
       "      <td>78.7</td>\n",
       "      <td>7.14</td>\n",
       "      <td>5.62</td>\n",
       "      <td>1.52</td>\n",
       "      <td>3.55</td>\n",
       "      <td>5.70</td>\n",
       "      <td>1245.68</td>\n",
       "      <td>-0.773266</td>\n",
       "      <td>-3.669409</td>\n",
       "      <td>-1.222791</td>\n",
       "      <td>-5.802558</td>\n",
       "      <td>-6.427876e-01</td>\n",
       "      <td>7.660444e-01</td>\n",
       "      <td>-0.022295</td>\n",
       "      <td>0.999751</td>\n",
       "    </tr>\n",
       "    <tr>\n",
       "      <th>8759</th>\n",
       "      <td>987.50</td>\n",
       "      <td>1.57</td>\n",
       "      <td>275.72</td>\n",
       "      <td>-0.88</td>\n",
       "      <td>83.7</td>\n",
       "      <td>6.84</td>\n",
       "      <td>5.73</td>\n",
       "      <td>1.12</td>\n",
       "      <td>3.61</td>\n",
       "      <td>5.80</td>\n",
       "      <td>1249.44</td>\n",
       "      <td>-0.430321</td>\n",
       "      <td>-1.973632</td>\n",
       "      <td>-0.766909</td>\n",
       "      <td>-3.517364</td>\n",
       "      <td>8.715574e-02</td>\n",
       "      <td>9.961947e-01</td>\n",
       "      <td>-0.020145</td>\n",
       "      <td>0.999797</td>\n",
       "    </tr>\n",
       "  </tbody>\n",
       "</table>\n",
       "<p>8760 rows × 19 columns</p>\n",
       "</div>"
      ],
      "text/plain": [
       "      p (mbar)  T (degC)  Tpot (K)  Tdew (degC)  rh (%)  VPmax (mbar)  \\\n",
       "0       996.84     -8.81    264.59        -9.66    93.5          3.13   \n",
       "1       997.71     -9.67    263.66       -10.62    92.7          2.93   \n",
       "2       999.69     -7.66    265.52        -8.84    91.2          3.43   \n",
       "3      1000.30     -6.87    266.27        -8.28    89.6          3.64   \n",
       "4       999.88     -5.69    267.48        -7.00    90.4          3.99   \n",
       "...        ...       ...       ...          ...     ...           ...   \n",
       "8755    980.34      1.45    276.18         0.03    90.2          6.79   \n",
       "8756    983.25      2.23    276.73         0.21    86.4          7.18   \n",
       "8757    985.46      1.69    276.00        -0.52    85.2          6.90   \n",
       "8758    986.63      2.16    276.38        -1.14    78.7          7.14   \n",
       "8759    987.50      1.57    275.72        -0.88    83.7          6.84   \n",
       "\n",
       "      VPact (mbar)  VPdef (mbar)  sh (g/kg)  H2OC (mmol/mol)  rho (g/m**3)  \\\n",
       "0             2.93          0.20       1.83             2.94       1312.18   \n",
       "1             2.71          0.21       1.69             2.72       1317.71   \n",
       "2             3.13          0.30       1.95             3.13       1310.14   \n",
       "3             3.27          0.38       2.03             3.26       1306.98   \n",
       "4             3.61          0.38       2.25             3.61       1300.51   \n",
       "...            ...           ...        ...              ...           ...   \n",
       "8755          6.12          0.67       3.89             6.24       1240.67   \n",
       "8756          6.20          0.98       3.93             6.31       1240.81   \n",
       "8757          5.88          1.02       3.72             5.97       1246.23   \n",
       "8758          5.62          1.52       3.55             5.70       1245.68   \n",
       "8759          5.73          1.12       3.61             5.80       1249.44   \n",
       "\n",
       "            Wx        Wy    max Wx    max Wy       Day_sin       Day_cos  \\\n",
       "0    -0.175527  0.039879 -0.614344  0.139576  7.071068e-01  7.071068e-01   \n",
       "1    -0.041452  0.027960 -0.414519  0.279596  1.000000e+00  4.339955e-12   \n",
       "2    -0.314796 -0.128466 -0.583298 -0.238040  7.071068e-01 -7.071068e-01   \n",
       "3    -1.834577 -0.141163 -2.622249 -0.201771  6.903299e-12 -1.000000e+00   \n",
       "4    -0.825870  0.828758 -1.327039  1.331679 -7.071068e-01 -7.071068e-01   \n",
       "...        ...       ...       ...       ...           ...           ...   \n",
       "8755 -0.604351 -3.731375 -1.191115 -7.354165 -8.715574e-02 -9.961947e-01   \n",
       "8756 -0.432628 -2.126437 -0.849307 -4.174479 -7.660444e-01 -6.427876e-01   \n",
       "8757 -0.626578 -2.513066 -0.977364 -3.919995 -9.961947e-01  8.715574e-02   \n",
       "8758 -0.773266 -3.669409 -1.222791 -5.802558 -6.427876e-01  7.660444e-01   \n",
       "8759 -0.430321 -1.973632 -0.766909 -3.517364  8.715574e-02  9.961947e-01   \n",
       "\n",
       "      Year_sin  Year_cos  \n",
       "0     0.011483  0.999934  \n",
       "1     0.013633  0.999907  \n",
       "2     0.015783  0.999875  \n",
       "3     0.017933  0.999839  \n",
       "4     0.020083  0.999798  \n",
       "...        ...       ...  \n",
       "8755 -0.028744  0.999587  \n",
       "8756 -0.026594  0.999646  \n",
       "8757 -0.024445  0.999701  \n",
       "8758 -0.022295  0.999751  \n",
       "8759 -0.020145  0.999797  \n",
       "\n",
       "[8760 rows x 19 columns]"
      ]
     },
     "execution_count": 18,
     "metadata": {},
     "output_type": "execute_result"
    }
   ],
   "source": [
    "fold = folds[0]\n",
    "fold"
   ]
  },
  {
   "cell_type": "markdown",
   "id": "8fd22aae",
   "metadata": {},
   "source": [
    "☝️ We want to split this fold **chronologically** into:\n",
    "\n",
    "- a <font color=blue>fold_train</font> dataframe\n",
    "- a <font color=\"#ff8005\">fold_test</font> dataframe\n",
    "\n",
    "that will contain all the data we need to be able to sample many `(X_i, y_i)` pairs in each dataframe in a next step! \n",
    "\n",
    "<img src=\"https://wagon-public-datasets.s3.amazonaws.com/data-science-images/06-DL/time_serie_test_split_without_horizon.png\" alt=\"train_test_split_temporal\" width=\"800\"> \n"
   ]
  },
  {
   "cell_type": "markdown",
   "id": "2c10e3eb",
   "metadata": {},
   "source": [
    "☝️ Did you notice? \n",
    "\n",
    "- <font color=\"#ff8005\">y_test_first</font> should be just after <font color=blue>y_train_last</font>\n",
    "  \n",
    "- In order to know which indexes should be in our <font color=\"#ff8005\">fold_test</font>, we need to know the `INPUT_LENGTH` of each observation `X_i` \n",
    "  \n",
    "- Because `INPUT_LENGTH` can be large, it's perfectly normal to have some overlap between train and test folds! (Imagine taking 1 year of input_length, you wouldn't wait one year between train and test!)\n",
    "\n",
    "\n",
    "**❓ Understanding Question**: Given a <font color=blue>fold_train</font> timestep indexes ranging from `[O..len_train]`, what should be <font color=\"#ff8005\">fold_test</font> range of indexes?\n",
    "\n",
    "<details>\n",
    "  <summary markdown='span'>💡 Answer</summary>\n",
    "\n",
    "If `fold_train` indexes are `[0:len_train]`, then `fold_test` indexes will be `[len_train-INPUT_LENGTH, :]`\n",
    "</details>\n",
    "\n"
   ]
  },
  {
   "cell_type": "markdown",
   "id": "bd5f16f6",
   "metadata": {},
   "source": [
    "✅ So, let's setup an `INPUT_LENGTH` equal to 2 weeks for our problem (it is quite a common period for weather forecasting)"
   ]
  },
  {
   "cell_type": "code",
   "execution_count": 19,
   "id": "0159f89d",
   "metadata": {},
   "outputs": [],
   "source": [
    "INPUT_LENGTH = 8 * 14 # records every 3 hours x 8 = 24 hours\n",
    "                      # two weeks"
   ]
  },
  {
   "cell_type": "markdown",
   "id": "d4274a27",
   "metadata": {},
   "source": [
    "💻 ❓ **Question (temporal <font color=blue>train</font>-<font color=orange>test</font> split)** ❓\n",
    "\n",
    "Code the function `train_test_split` down below which:\n",
    "- <i>(input)</i> given a `fold` (like above), a `train_test_ratio` (e.g 0.8) and an `input_length` (fixed)\n",
    "- <i>(output)</i> a tuple of (`fold_train`, `fold_test`) dataframes"
   ]
  },
  {
   "cell_type": "code",
   "execution_count": 48,
   "id": "6f33f201",
   "metadata": {},
   "outputs": [],
   "source": [
    "def train_test_split(fold:pd.DataFrame,\n",
    "                     train_test_ratio: float,\n",
    "                     input_length: int) -> Tuple[pd.DataFrame]:\n",
    "    \"\"\"From a fold dataframe, take a train dataframe and test dataframe based on \n",
    "    the split ratio.\n",
    "    - df_train should contain all the timesteps until round(train_test_ratio * len(fold))\n",
    "    - df_test should contain all the timesteps needed to create all (X_test, y_test) tuples\n",
    "\n",
    "    Args:\n",
    "        fold (pd.DataFrame): A fold of timesteps\n",
    "        train_test_ratio (float): The ratio between train and test 0-1\n",
    "        input_length (int): How long each X_i will be\n",
    "\n",
    "    Returns:\n",
    "        Tuple[pd.DataFrame]: A tuple of two dataframes (fold_train, fold_test)\n",
    "    \"\"\"\n",
    "    train_timesteps=int(len(fold)*train_test_ratio)\n",
    "    fold_train = fold.iloc[:train_timesteps+1,:]\n",
    "    \n",
    "    test_start_index = train_timesteps - input_length + 1\n",
    "    fold_test = fold.iloc[test_start_index:, :]\n",
    "    \n",
    "    return (fold_train,fold_test)"
   ]
  },
  {
   "cell_type": "markdown",
   "id": "5e8992c6",
   "metadata": {},
   "source": [
    "🧪 ***Test your code***"
   ]
  },
  {
   "cell_type": "code",
   "execution_count": 49,
   "id": "25068523",
   "metadata": {},
   "outputs": [
    {
     "data": {
      "text/plain": [
       "0.66"
      ]
     },
     "execution_count": 49,
     "metadata": {},
     "output_type": "execute_result"
    }
   ],
   "source": [
    "TRAIN_TEST_RATIO"
   ]
  },
  {
   "cell_type": "code",
   "execution_count": 50,
   "id": "886941da",
   "metadata": {},
   "outputs": [
    {
     "data": {
      "text/plain": [
       "5781"
      ]
     },
     "execution_count": 50,
     "metadata": {},
     "output_type": "execute_result"
    }
   ],
   "source": [
    "int(len(fold)*TRAIN_TEST_RATIO)"
   ]
  },
  {
   "cell_type": "code",
   "execution_count": 51,
   "id": "e312b31b",
   "metadata": {},
   "outputs": [],
   "source": [
    "(fold_train, fold_test) = train_test_split(fold, TRAIN_TEST_RATIO, INPUT_LENGTH)"
   ]
  },
  {
   "cell_type": "code",
   "execution_count": 52,
   "id": "bc7be64b",
   "metadata": {},
   "outputs": [
    {
     "name": "stdout",
     "output_type": "stream",
     "text": [
      "\n",
      "\u001b[1m============================= test session starts ==============================\u001b[0m\n",
      "platform darwin -- Python 3.10.6, pytest-7.1.3, pluggy-1.0.0 -- /Users/gasparburgi/.pyenv/versions/lewagon/bin/python3\n",
      "cachedir: .pytest_cache\n",
      "rootdir: /Users/gasparburgi/code/GasparinB/06-Deep-Learning/04-Recurrent-Neural-Networks/data-predict-temperature/tests\n",
      "plugins: asyncio-0.19.0, typeguard-2.13.3, anyio-3.6.2\n",
      "asyncio: mode=strict\n",
      "\u001b[1mcollecting ... \u001b[0mcollected 4 items\n",
      "\n",
      "test_holdout.py::TestHoldout::test_variable_test_index_start \u001b[32mPASSED\u001b[0m\u001b[32m      [ 25%]\u001b[0m\n",
      "test_holdout.py::TestHoldout::test_variable_test_index_stop \u001b[32mPASSED\u001b[0m\u001b[32m       [ 50%]\u001b[0m\n",
      "test_holdout.py::TestHoldout::test_variable_train_index_start \u001b[32mPASSED\u001b[0m\u001b[32m     [ 75%]\u001b[0m\n",
      "test_holdout.py::TestHoldout::test_variable_train_index_stop \u001b[32mPASSED\u001b[0m\u001b[32m      [100%]\u001b[0m\n",
      "\n",
      "\u001b[32m============================== \u001b[32m\u001b[1m4 passed\u001b[0m\u001b[32m in 0.01s\u001b[0m\u001b[32m ===============================\u001b[0m\n",
      "\n",
      "\n",
      "💯 You can commit your code:\n",
      "\n",
      "\u001b[1;32mgit\u001b[39m add tests/holdout.pickle\n",
      "\n",
      "\u001b[32mgit\u001b[39m commit -m \u001b[33m'Completed holdout step'\u001b[39m\n",
      "\n",
      "\u001b[32mgit\u001b[39m push origin master\n",
      "\n"
     ]
    }
   ],
   "source": [
    "from nbresult import ChallengeResult\n",
    "\n",
    "result = ChallengeResult('holdout',\n",
    "                         train_index_start = fold_train.index.start,\n",
    "                         train_index_stop = fold_train.index.stop,\n",
    "                         test_index_start = fold_test.index.start,\n",
    "                         test_index_stop = fold_test.index.stop)\n",
    "result.write()\n",
    "print(result.check())"
   ]
  },
  {
   "cell_type": "code",
   "execution_count": 53,
   "id": "a91e1f89",
   "metadata": {},
   "outputs": [
    {
     "name": "stdout",
     "output_type": "stream",
     "text": [
      "[master b55c3aa] Completed holdout step\n",
      " 1 file changed, 0 insertions(+), 0 deletions(-)\n",
      " create mode 100644 tests/holdout.pickle\n",
      "Enumerating objects: 6, done.\n",
      "Counting objects: 100% (6/6), done.\n",
      "Delta compression using up to 8 threads\n",
      "Compressing objects: 100% (4/4), done.\n",
      "Writing objects: 100% (4/4), 459 bytes | 459.00 KiB/s, done.\n",
      "Total 4 (delta 2), reused 0 (delta 0), pack-reused 0\n",
      "remote: Resolving deltas: 100% (2/2), completed with 2 local objects.\u001b[K\n",
      "To github.com:GasparinB/data-predict-temperature.git\n",
      "   fb4b71f..b55c3aa  master -> master\n"
     ]
    }
   ],
   "source": [
    "!git add tests/holdout.pickle\n",
    "\n",
    "!git commit -m 'Completed holdout step'\n",
    "\n",
    "!git push origin master"
   ]
  },
  {
   "cell_type": "markdown",
   "id": "3fd42f99",
   "metadata": {},
   "source": [
    "## (1.3) 💻 Create (X, y) sequences"
   ]
  },
  {
   "cell_type": "markdown",
   "id": "1b62f833",
   "metadata": {},
   "source": [
    "Now that we have splitted our fold into a <font color=\"blue\">train</font> set and a <font color=\"#ff8005\">test</font> set, it is time to:\n",
    "- 🏋 sample lots of sequences $(X_i, y_i)$ on which the model will be <font color=\"blue\">trained</font>\n",
    "- 👩🏻‍🏫 sample lots of sequences $(X_i, y_i)$ on which the model will be <font color=\"#ff8005\">evaluated</font>\n",
    "\n",
    "<img src=\"https://bit.ly/3Ri8Vfd\" alt=\"Sequences in each fold\" width=\"300\"> \n",
    "\n",
    "🎯 Our goal is to create 3D-arrays `(X_train, y_train)` and `(X_test, y_test)` containing all the SEQUENCES we need from this fold:\n",
    "\n",
    "* `X_train.shape = (n_samples_train, input_length, n_features)`\n",
    "* `y_train.shape = (n_samples_train, output_length, n_targets)`\n",
    "\n",
    "👉 Notice that we are now dealing with **3D arrays** instead of **2D DataFrames** time-series\n",
    "\n",
    "<img src=\"https://bit.ly/3bOhKNj\" alt=\"3d arrays time series\" width=\"1200\"> "
   ]
  },
  {
   "cell_type": "code",
   "execution_count": 54,
   "id": "ee69394c",
   "metadata": {},
   "outputs": [
    {
     "name": "stdout",
     "output_type": "stream",
     "text": [
      "N_FEATURES = 19\n",
      "INPUT_LENGTH = 112 timesteps = 14 days = 2 weeks\n"
     ]
    }
   ],
   "source": [
    "# INPUT X\n",
    "print(f'N_FEATURES = {N_FEATURES}')\n",
    "print(f'INPUT_LENGTH = {INPUT_LENGTH} timesteps = {int(INPUT_LENGTH/8)} days = {int(INPUT_LENGTH/8/7)} weeks')"
   ]
  },
  {
   "cell_type": "markdown",
   "id": "f9d5db69",
   "metadata": {},
   "source": [
    "☝️ `X` is the **input** of our model. \n",
    "- It contains $19$ features: the past values of the <font color=green>**target**</font> + $18$ <font color=orange>**past-covariates**</font>\n",
    "- Each sequence has a length equal to $112$ timesteps (=$2$ weeks)"
   ]
  },
  {
   "cell_type": "code",
   "execution_count": 55,
   "id": "2dfdd95f",
   "metadata": {},
   "outputs": [
    {
     "name": "stdout",
     "output_type": "stream",
     "text": [
      "N_TARGETS = 1\n",
      "OUTPUT_LENGTH = 1\n"
     ]
    }
   ],
   "source": [
    "# TARGET Y\n",
    "print(f'N_TARGETS = {N_TARGETS}')\n",
    "\n",
    "# Let's only predict 1 value ahead of us\n",
    "OUTPUT_LENGTH = 1\n",
    "print(f'OUTPUT_LENGTH = {OUTPUT_LENGTH}')"
   ]
  },
  {
   "cell_type": "markdown",
   "id": "3d02010e",
   "metadata": {},
   "source": [
    "☝️ `y` is the <font color=green>**target**</font> that we want to predic:t\n",
    "- It is the value at the single next timestep (= 3 hours later)\n",
    "- We could also predict `OUTPUT_LENGTH > 1`, i.e several values in the future _(3 hours later, 6 hours later, 9 hours later, ...)_ but let's keep it simple here and just try to predict the next point (in 3 hours)"
   ]
  },
  {
   "cell_type": "markdown",
   "id": "a7720e3b",
   "metadata": {},
   "source": [
    "💡 To create these SEQUENCES within the <font color=\"blue\">train</font> set and the <font color=\"#ff8005\">test</font> set, you have several options, among them:\n",
    "- 🎲 <u><i>Option 1</i></u>: creating these sequences by randomly sampling $(X_i, y_i)$ from <font color=\"blue\">fold_train</font> and <font color=\"#ff8005\">fold_test</font>.\n",
    "- ⌚️ <u><i>Option 2</i></u>: scanning a fold chronologically and create all the possible pairs $(X_i, y_i)$. \n",
    " \n",
    "\n",
    "👉 Let's focus on the first option: random sampling\n",
    "\n",
    "🎁 If you want to scan the folds chronologically, we provided the solution in the section and you can come back to it later\n"
   ]
  },
  {
   "cell_type": "markdown",
   "id": "95058bf7",
   "metadata": {},
   "source": [
    "### (1.2.1) 💻 Option 1: Create (X, y) by random sampling in each split"
   ]
  },
  {
   "cell_type": "markdown",
   "id": "fd992693",
   "metadata": {},
   "source": [
    "👇 We will code:\n",
    "\n",
    "* 1️⃣ a function `get_Xi_yi` to generate a single sequence randomly from within a fold\n",
    "\n",
    "* 2️⃣ a function `get_X_y` to generate 3D-arrays containing multiple sequences from a fold, calling the first function `get_Xi_yi` many times over"
   ]
  },
  {
   "cell_type": "markdown",
   "id": "92dfad62",
   "metadata": {},
   "source": [
    "#### (1.2.2.1) 💻 Generating one random sequence"
   ]
  },
  {
   "cell_type": "markdown",
   "id": "e72dac4e",
   "metadata": {},
   "source": [
    "<img src=\"https://github.com/lewagon/data-images/blob/master/DL/get_xi_yi.png?raw=true\" alt=\"one sequence\" width=\"400\"> "
   ]
  },
  {
   "cell_type": "markdown",
   "id": "f5dc3306",
   "metadata": {},
   "source": [
    "💻 ❓ **Question (extracting a random sequence from a fold)** ❓\n",
    "\n",
    "Code the function `get_Xi_yi` down below which:\n",
    "- <i>(input)</i> given a fold, an `input_length` and an `output_length`\n",
    "- <i>(output)</i> returns a sequence $(X_i,y_i)$"
   ]
  },
  {
   "cell_type": "code",
   "execution_count": 102,
   "id": "f0e6ae94",
   "metadata": {},
   "outputs": [],
   "source": [
    "def get_Xi_yi(\n",
    "    fold:pd.DataFrame, \n",
    "    input_length:int, \n",
    "    output_length:int) -> Tuple[pd.DataFrame]:\n",
    "    \"\"\"given a fold, it returns one sequence (X_i, y_i) as based on the desired \n",
    "    input_length and output_length with the starting point of the sequence being chosen at random based\n",
    "\n",
    "    Args:\n",
    "        fold (pd.DataFrame): A single fold\n",
    "        input_length (int): How long each X_i should be \n",
    "        output_length (int): How long each y_i should be\n",
    "\n",
    "    Returns:\n",
    "        Tuple[pd.DataFrame]: A tuple of two dataframes (X_i, y_i)\n",
    "    \"\"\"\n",
    "    first_possible_start = 0\n",
    "    last_possible_start = len(fold) - (input_length + output_length) + 1\n",
    "    rn_start = np.random.randint(first_possible_start,last_possible_start)\n",
    "    X_i_start = rn_start\n",
    "    X_i_stop = X_i_start+input_length\n",
    "    X_i = fold.iloc[X_i_start:X_i_stop,:]\n",
    "    \n",
    "    y_i_start = X_i_stop\n",
    "    y_i_stop = y_i_start + output_length\n",
    "    y_i = fold.iloc[y_i_start:y_i_stop,:]\n",
    "    y_i = pd.DataFrame(y_i['T (degC)'])\n",
    "    return X_i,y_i"
   ]
  },
  {
   "cell_type": "markdown",
   "id": "16b07d23",
   "metadata": {},
   "source": [
    "🧪 ***Test your code below***"
   ]
  },
  {
   "cell_type": "code",
   "execution_count": 105,
   "id": "20d9313b",
   "metadata": {},
   "outputs": [],
   "source": [
    "X_train_i, y_train_i = get_Xi_yi(fold_train, INPUT_LENGTH, OUTPUT_LENGTH)\n",
    "X_test_i, y_test_i = get_Xi_yi(fold_test, INPUT_LENGTH, OUTPUT_LENGTH)"
   ]
  },
  {
   "cell_type": "code",
   "execution_count": 109,
   "id": "05719e5e",
   "metadata": {},
   "outputs": [
    {
     "data": {
      "text/plain": [
       "array([[ 9.80350000e+02,  1.77000000e+01,  2.92520000e+02, ...,\n",
       "         7.66044443e-01,  8.27682248e-01, -5.61197021e-01],\n",
       "       [ 9.79050000e+02,  1.65000000e+01,  2.91420000e+02, ...,\n",
       "         9.96194698e-01,  4.41016852e-01, -8.97498823e-01],\n",
       "       [ 9.78210000e+02,  1.45100000e+01,  2.89490000e+02, ...,\n",
       "         6.42787610e-01,  4.39085899e-01, -8.98445086e-01],\n",
       "       ...,\n",
       "       [ 9.82120000e+02,  1.41400000e+01,  2.88790000e+02, ...,\n",
       "        -9.96194698e-01,  2.22612943e-01, -9.74906907e-01],\n",
       "       [ 9.82480000e+02,  1.59600000e+01,  2.90590000e+02, ...,\n",
       "        -6.42787610e-01,  2.20516042e-01, -9.75383348e-01],\n",
       "       [ 9.83190000e+02,  1.49100000e+01,  2.89470000e+02, ...,\n",
       "         8.71557427e-02,  2.18418121e-01, -9.75855278e-01]])"
      ]
     },
     "execution_count": 109,
     "metadata": {},
     "output_type": "execute_result"
    }
   ],
   "source": [
    "X_test_i.values"
   ]
  },
  {
   "cell_type": "code",
   "execution_count": 107,
   "id": "616c286c",
   "metadata": {},
   "outputs": [
    {
     "name": "stdout",
     "output_type": "stream",
     "text": [
      "\n",
      "\u001b[1m============================= test session starts ==============================\u001b[0m\n",
      "platform darwin -- Python 3.10.6, pytest-7.1.3, pluggy-1.0.0 -- /Users/gasparburgi/.pyenv/versions/lewagon/bin/python3\n",
      "cachedir: .pytest_cache\n",
      "rootdir: /Users/gasparburgi/code/GasparinB/06-Deep-Learning/04-Recurrent-Neural-Networks/data-predict-temperature/tests\n",
      "plugins: asyncio-0.19.0, typeguard-2.13.3, anyio-3.6.2\n",
      "asyncio: mode=strict\n",
      "\u001b[1mcollecting ... \u001b[0mcollected 4 items\n",
      "\n",
      "test_sequence.py::TestSequence::test_variable_x_test_i_shape \u001b[32mPASSED\u001b[0m\u001b[32m      [ 25%]\u001b[0m\n",
      "test_sequence.py::TestSequence::test_variable_x_train_i_shape \u001b[32mPASSED\u001b[0m\u001b[32m     [ 50%]\u001b[0m\n",
      "test_sequence.py::TestSequence::test_variable_y_test_i_shape \u001b[32mPASSED\u001b[0m\u001b[32m      [ 75%]\u001b[0m\n",
      "test_sequence.py::TestSequence::test_variable_y_train_i_shape \u001b[32mPASSED\u001b[0m\u001b[32m     [100%]\u001b[0m\n",
      "\n",
      "\u001b[32m============================== \u001b[32m\u001b[1m4 passed\u001b[0m\u001b[32m in 0.01s\u001b[0m\u001b[32m ===============================\u001b[0m\n",
      "\n",
      "\n",
      "💯 You can commit your code:\n",
      "\n",
      "\u001b[1;32mgit\u001b[39m add tests/sequence.pickle\n",
      "\n",
      "\u001b[32mgit\u001b[39m commit -m \u001b[33m'Completed sequence step'\u001b[39m\n",
      "\n",
      "\u001b[32mgit\u001b[39m push origin master\n",
      "\n"
     ]
    }
   ],
   "source": [
    "from nbresult import ChallengeResult\n",
    "\n",
    "result = ChallengeResult('sequence',\n",
    "                         x_train_i_shape = X_train_i.shape,\n",
    "                         y_train_i_shape = y_train_i.shape,\n",
    "                         x_test_i_shape = X_test_i.shape,\n",
    "                         y_test_i_shape = y_test_i.shape)\n",
    "result.write()\n",
    "print(result.check())"
   ]
  },
  {
   "cell_type": "code",
   "execution_count": 108,
   "id": "95a11b26",
   "metadata": {},
   "outputs": [
    {
     "name": "stdout",
     "output_type": "stream",
     "text": [
      "[master 59c1c9b] Completed sequence step\n",
      " 1 file changed, 0 insertions(+), 0 deletions(-)\n",
      " create mode 100644 tests/sequence.pickle\n",
      "Enumerating objects: 6, done.\n",
      "Counting objects: 100% (6/6), done.\n",
      "Delta compression using up to 8 threads\n",
      "Compressing objects: 100% (4/4), done.\n",
      "Writing objects: 100% (4/4), 459 bytes | 459.00 KiB/s, done.\n",
      "Total 4 (delta 2), reused 0 (delta 0), pack-reused 0\n",
      "remote: Resolving deltas: 100% (2/2), completed with 2 local objects.\u001b[K\n",
      "To github.com:GasparinB/data-predict-temperature.git\n",
      "   b55c3aa..59c1c9b  master -> master\n"
     ]
    }
   ],
   "source": [
    "!git add tests/sequence.pickle\n",
    "\n",
    "!git commit -m 'Completed sequence step'\n",
    "\n",
    "!git push origin master"
   ]
  },
  {
   "cell_type": "code",
   "execution_count": null,
   "id": "8c3464b8",
   "metadata": {},
   "outputs": [],
   "source": [
    "# Advanced check 😈 \n",
    "# You should not allow some truncated (X_i,y_i) pairs to be generating,\n",
    "# should you start sampling too close from the end of the fold... !\n",
    "\n",
    "X_last, y_last = get_Xi_yi(fold_test, input_length=len(fold_test)-1, output_length=OUTPUT_LENGTH)\n",
    "assert y_last.values == fold_test.iloc[-1,:][TARGET]"
   ]
  },
  {
   "cell_type": "markdown",
   "id": "6b33b507",
   "metadata": {},
   "source": [
    "#### (1.2.2.2) 💻 Generating multiple random sequences"
   ]
  },
  {
   "cell_type": "markdown",
   "id": "d8bccdd3",
   "metadata": {},
   "source": [
    "<img src=\"https://bit.ly/3Ri8Vfd\" alt=\"Sequences in each fold\" width=\"500\"> "
   ]
  },
  {
   "cell_type": "markdown",
   "id": "588cdc98",
   "metadata": {},
   "source": [
    "💻 ❓ **Question (extracting multiple random sequence from a fold)** ❓\n",
    "\n",
    "Code the function `get_X_y` down below which:\n",
    "- <i>(input)</i> given a fold, a `number_of_sequences` an `input_length` and an `output_length`\n",
    "- <i>(output)</i> returns $(X,y)$ \n",
    "\n",
    "_Don't forget to use the `get_Xi_yi` function that you have just coded!_"
   ]
  },
  {
   "cell_type": "code",
   "execution_count": 117,
   "id": "e6f63ac1",
   "metadata": {},
   "outputs": [],
   "source": [
    "def get_X_y(\n",
    "    fold:pd.DataFrame,\n",
    "    number_of_sequences:int,\n",
    "    input_length:int,\n",
    "    output_length:int) -> Tuple[np.array]:\n",
    "    \"\"\"Given a fold generate X and y based on the number of desired sequences \n",
    "    of the given input_length and output_length\n",
    "\n",
    "    Args:\n",
    "        fold (pd.DataFrame): Fold dataframe\n",
    "        number_of_sequences (int): The number of X_i and y_i pairs to include\n",
    "        input_length (int): Length of each X_i\n",
    "        output_length (int): Length of each y_i\n",
    "\n",
    "    Returns:\n",
    "        Tuple[np.array]: A tuple of numpy arrays (X, y)\n",
    "    \"\"\"\n",
    "    X = []\n",
    "    y = []\n",
    "    \n",
    "    timesteps = len(fold)\n",
    "    for _ in range(number_of_sequences):\n",
    "        X_vals,y_vals = get_Xi_yi(fold,input_length,output_length)\n",
    "        X.append(X_vals)\n",
    "        y.append(y_vals)\n",
    "    X = np.array(X)\n",
    "    y = np.array(y)\n",
    "    \n",
    "    return X,y"
   ]
  },
  {
   "cell_type": "markdown",
   "id": "4e0c69d2",
   "metadata": {},
   "source": [
    "🧪 ***Test your code***"
   ]
  },
  {
   "cell_type": "code",
   "execution_count": 118,
   "id": "e3ca884c",
   "metadata": {},
   "outputs": [],
   "source": [
    "N_TRAIN = 6666 # number_of_sequences_train\n",
    "N_TEST =  3333 # number_of_sequences_test\n",
    "\n",
    "X_train, y_train = get_X_y(fold_train, N_TRAIN, INPUT_LENGTH, OUTPUT_LENGTH)\n",
    "X_test, y_test = get_X_y(fold_test, N_TEST, INPUT_LENGTH, OUTPUT_LENGTH)"
   ]
  },
  {
   "cell_type": "code",
   "execution_count": 119,
   "id": "4f896a46",
   "metadata": {},
   "outputs": [
    {
     "name": "stdout",
     "output_type": "stream",
     "text": [
      "\n",
      "\u001b[1m============================= test session starts ==============================\u001b[0m\n",
      "platform darwin -- Python 3.10.6, pytest-7.1.3, pluggy-1.0.0 -- /Users/gasparburgi/.pyenv/versions/lewagon/bin/python3\n",
      "cachedir: .pytest_cache\n",
      "rootdir: /Users/gasparburgi/code/GasparinB/06-Deep-Learning/04-Recurrent-Neural-Networks/data-predict-temperature/tests\n",
      "plugins: asyncio-0.19.0, typeguard-2.13.3, anyio-3.6.2\n",
      "asyncio: mode=strict\n",
      "\u001b[1mcollecting ... \u001b[0mcollected 4 items\n",
      "\n",
      "test_multiple_sequences.py::TestMultipleSequences::test_variable_x_test_i_shape \u001b[32mPASSED\u001b[0m\u001b[32m [ 25%]\u001b[0m\n",
      "test_multiple_sequences.py::TestMultipleSequences::test_variable_x_train_shape \u001b[32mPASSED\u001b[0m\u001b[32m [ 50%]\u001b[0m\n",
      "test_multiple_sequences.py::TestMultipleSequences::test_variable_y_test_i_shape \u001b[32mPASSED\u001b[0m\u001b[32m [ 75%]\u001b[0m\n",
      "test_multiple_sequences.py::TestMultipleSequences::test_variable_y_train_shape \u001b[32mPASSED\u001b[0m\u001b[32m [100%]\u001b[0m\n",
      "\n",
      "\u001b[32m============================== \u001b[32m\u001b[1m4 passed\u001b[0m\u001b[32m in 0.01s\u001b[0m\u001b[32m ===============================\u001b[0m\n",
      "\n",
      "\n",
      "💯 You can commit your code:\n",
      "\n",
      "\u001b[1;32mgit\u001b[39m add tests/multiple_sequences.pickle\n",
      "\n",
      "\u001b[32mgit\u001b[39m commit -m \u001b[33m'Completed multiple_sequences step'\u001b[39m\n",
      "\n",
      "\u001b[32mgit\u001b[39m push origin master\n",
      "\n"
     ]
    }
   ],
   "source": [
    "from nbresult import ChallengeResult\n",
    "\n",
    "result = ChallengeResult('multiple_sequences',\n",
    "                         x_train_shape = X_train.shape,\n",
    "                         y_train_shape = y_train.shape,\n",
    "                         x_test_shape = X_test.shape,\n",
    "                         y_test_shape = y_test.shape)\n",
    "result.write()\n",
    "print(result.check())"
   ]
  },
  {
   "cell_type": "code",
   "execution_count": 120,
   "id": "6601c28d",
   "metadata": {},
   "outputs": [
    {
     "name": "stdout",
     "output_type": "stream",
     "text": [
      "[master 97b7ff9] Completed multiple_sequences step\n",
      " 1 file changed, 0 insertions(+), 0 deletions(-)\n",
      " create mode 100644 tests/multiple_sequences.pickle\n",
      "Enumerating objects: 6, done.\n",
      "Counting objects: 100% (6/6), done.\n",
      "Delta compression using up to 8 threads\n",
      "Compressing objects: 100% (4/4), done.\n",
      "Writing objects: 100% (4/4), 492 bytes | 492.00 KiB/s, done.\n",
      "Total 4 (delta 2), reused 0 (delta 0), pack-reused 0\n",
      "remote: Resolving deltas: 100% (2/2), completed with 2 local objects.\u001b[K\n",
      "To github.com:GasparinB/data-predict-temperature.git\n",
      "   59c1c9b..97b7ff9  master -> master\n"
     ]
    }
   ],
   "source": [
    "!git add tests/multiple_sequences.pickle\n",
    "\n",
    "!git commit -m 'Completed multiple_sequences step'\n",
    "\n",
    "!git push origin master"
   ]
  },
  {
   "cell_type": "markdown",
   "id": "46e5f4a8",
   "metadata": {},
   "source": [
    "### (1.2.2) (Don't read this now, keep for later) 🎁 Option 2: Scanning  chronologically"
   ]
  },
  {
   "cell_type": "markdown",
   "id": "e4b594af",
   "metadata": {},
   "source": [
    "As stated earlier, there are multiple ways to extract sequences from a fold. \n",
    "\n",
    "- 🎲 In the previous section, you coded:\n",
    "    - `get_Xi_yi` which randomly samples _one_ sequence \n",
    "    - and `get_X_y` which randomly generates _multiple_ sequences\n",
    "\n",
    "- ⌚️ In this section, we provide you a unique function `get_X_y_strides`.\n",
    "    - It scans a fold chronologically based on:\n",
    "         - an `input_length` (let's still use `INPUT_LENGTH = 8 * 14`, i.e. two weeks) \n",
    "         - and a `sequence_stride` (think about a one-dimensional convolutional operation!)"
   ]
  },
  {
   "cell_type": "markdown",
   "id": "8a0ff096",
   "metadata": {},
   "source": [
    "👉 Let's scan the fold with a temporal stride of 3 hours (the minimum one):"
   ]
  },
  {
   "cell_type": "code",
   "execution_count": null,
   "id": "cdba92cb",
   "metadata": {},
   "outputs": [],
   "source": [
    "SEQUENCE_STRIDE = 1"
   ]
  },
  {
   "cell_type": "code",
   "execution_count": null,
   "id": "51cb4e53",
   "metadata": {},
   "outputs": [],
   "source": [
    "def get_X_y_strides(fold: pd.DataFrame, input_length: int, output_length: int, \n",
    "    sequence_stride: int) -> Tuple[np.array]:\n",
    "    \"\"\"slides through a `fold` Time Series (2D array) to create sequences of equal\n",
    "        * `input_length` for X,\n",
    "        * `output_length` for y,\n",
    "    using a temporal gap `sequence_stride` between each sequence\n",
    "\n",
    "    Args:\n",
    "        fold (pd.DataFrame): One single fold dataframe\n",
    "        input_length (int): Length of each X_i\n",
    "        output_length (int): Length of each y_i\n",
    "        sequence_stride (int): How many timesteps to take before taking the next X_i\n",
    "\n",
    "    Returns:\n",
    "        Tuple[np.array]: A tuple of numpy arrays (X, y)\n",
    "    \"\"\"\n",
    "    X, y = [], []\n",
    "\n",
    "    for i in range(0, len(fold), sequence_stride):\n",
    "        # Exits the loop as soon as the last fold index would exceed the last index\n",
    "        if (i + input_length + output_length) >= len(fold):\n",
    "            break\n",
    "        X_i = fold.iloc[i:i + input_length, :]\n",
    "        y_i = fold.iloc[i + input_length:i + input_length + output_length, :][[TARGET]]\n",
    "        X.append(X_i)\n",
    "        y.append(y_i)\n",
    "\n",
    "    return (np.array(X), np.array(y))"
   ]
  },
  {
   "cell_type": "markdown",
   "id": "9a7424bb",
   "metadata": {},
   "source": [
    "🧑🏻‍🎓 Some clarifications about scanning a fold sequentially :"
   ]
  },
  {
   "cell_type": "code",
   "execution_count": null,
   "id": "bdbf36fc",
   "metadata": {},
   "outputs": [],
   "source": [
    "print(\"FOLD_LENGTH\") \n",
    "print(f\"= {FOLD_LENGTH} timesteps\")\n",
    "print(f\"= {int(FOLD_LENGTH/8)} days\") # 8 records per day, every 3 hours\n",
    "print(f\"= {int(FOLD_LENGTH/8/7)} weeks\")"
   ]
  },
  {
   "cell_type": "code",
   "execution_count": null,
   "id": "f70ea71d",
   "metadata": {},
   "outputs": [],
   "source": [
    "X_train, y_train = get_X_y_strides(fold_train, INPUT_LENGTH, OUTPUT_LENGTH, SEQUENCE_STRIDE)\n",
    "X_test, y_test = get_X_y_strides(fold_test, INPUT_LENGTH, OUTPUT_LENGTH, SEQUENCE_STRIDE)\n",
    "\n",
    "print(X_train.shape)\n",
    "print(y_train.shape)"
   ]
  },
  {
   "cell_type": "markdown",
   "id": "72a1b6b1",
   "metadata": {},
   "source": [
    "👇 Illustration down below if *SEQUENCE_STRIDE = 1 week*\n",
    "\n",
    "<img src=\"https://github.com/lewagon/data-images/blob/master/DL/scanning_a_time_series_chronologically_v3.png?raw=true\" width=800>"
   ]
  },
  {
   "cell_type": "markdown",
   "id": "f3cd4a98",
   "metadata": {},
   "source": [
    "# (2) 💻 Modelling"
   ]
  },
  {
   "cell_type": "markdown",
   "id": "6e5317cb",
   "metadata": {},
   "source": [
    "**The MAE as a metrics to monitor the temperature prediction**"
   ]
  },
  {
   "cell_type": "markdown",
   "id": "4e7218b1",
   "metadata": {},
   "source": [
    "The Mean Absolute Error seems to be a reasonable metrics to evaluate a model's capability to predict the temperature:\n",
    "\n",
    "$$ MAE = \\frac{1}{n_{samples}} \\times \\sum_{i = 1}^{n_{samples}} |y_{true}^{(i)} - y_{pred}^{(i)}|$$"
   ]
  },
  {
   "cell_type": "markdown",
   "id": "4f91f166",
   "metadata": {},
   "source": [
    "## (2.1) 💻 A Recurrent Neural Network: the `LSTM`\n",
    "\n",
    "🚀 It is time to design a Recurrent Neural Network and hopefully beat the baseline 💪 !"
   ]
  },
  {
   "cell_type": "markdown",
   "id": "89577ebd",
   "metadata": {},
   "source": [
    "💻 ❓ **Question (RNN)** ❓ \n",
    "\n",
    "- Create a function `init_model` which builds and compiles a simple Recurrent Neural Network with an LSTM layer\n",
    "- Don't forget to normalize your data with a [📚 Normalization layer](https://www.tensorflow.org/api_docs/python/tf/keras/layers/Normalization)"
   ]
  },
  {
   "cell_type": "code",
   "execution_count": 137,
   "id": "78af278b",
   "metadata": {},
   "outputs": [],
   "source": [
    "X_train.shape\n",
    "X_train_e=expand_dims(X_train,axis=-1)"
   ]
  },
  {
   "cell_type": "code",
   "execution_count": 127,
   "id": "4442c399",
   "metadata": {
    "scrolled": true
   },
   "outputs": [
    {
     "data": {
      "text/plain": [
       "keras.optimizers.optimizer_v2.rmsprop.RMSprop"
      ]
     },
     "execution_count": 127,
     "metadata": {},
     "output_type": "execute_result"
    }
   ],
   "source": [
    "optimizers.RMSprop"
   ]
  },
  {
   "cell_type": "code",
   "execution_count": 170,
   "id": "af658649",
   "metadata": {},
   "outputs": [],
   "source": [
    "from tensorflow.keras import models\n",
    "from tensorflow.keras import layers\n",
    "from tensorflow.keras import optimizers, metrics\n",
    "from tensorflow.keras.callbacks import EarlyStopping\n",
    "from tensorflow.keras.regularizers import L1L2\n",
    "from tensorflow.keras.layers.experimental.preprocessing import Normalization\n",
    "from tensorflow import expand_dims\n",
    "\n",
    "def init_model(X_train, y_train):\n",
    "    rmspop = optimizers.RMSprop(learning_rate=0.001)\n",
    "\n",
    "    normalize = Normalization()\n",
    "    normalize.adapt(X_train)\n",
    "    \n",
    "    model = models.Sequential()\n",
    "    model.add(normalize)\n",
    "    \n",
    "    model.add(layers.LSTM(30,activation='tanh',return_sequences=True))\n",
    "    model.add(layers.LSTM(30,activation='tanh',return_sequences=True))\n",
    "    model.add(layers.LSTM(25,activation='tanh',return_sequences=True))\n",
    "    model.add(layers.Dropout(0.3))\n",
    "    model.add(layers.LSTM(15,activation='tanh',return_sequences=True))\n",
    "    model.add(layers.LSTM(10,activation='tanh',return_sequences=True))\n",
    "    model.add(layers.Dropout(0.3))\n",
    "    model.add(layers.LSTM(10,activation='tanh',return_sequences=True))\n",
    "    model.add(layers.LSTM(5,activation='tanh'))\n",
    "    model.add(layers.Dense(1,activation='linear'))\n",
    "    \n",
    "    model.compile(optimizer=rmspop,loss='mae',metrics='mae')\n",
    "    \n",
    "    return model"
   ]
  },
  {
   "cell_type": "code",
   "execution_count": 171,
   "id": "9690473a",
   "metadata": {},
   "outputs": [
    {
     "name": "stdout",
     "output_type": "stream",
     "text": [
      "Model: \"sequential_14\"\n",
      "_________________________________________________________________\n",
      " Layer (type)                Output Shape              Param #   \n",
      "=================================================================\n",
      " normalization_14 (Normaliza  (None, None, 19)         39        \n",
      " tion)                                                           \n",
      "                                                                 \n",
      " lstm_57 (LSTM)              (None, None, 30)          6000      \n",
      "                                                                 \n",
      " lstm_58 (LSTM)              (None, None, 30)          7320      \n",
      "                                                                 \n",
      " lstm_59 (LSTM)              (None, None, 25)          5600      \n",
      "                                                                 \n",
      " dropout_20 (Dropout)        (None, None, 25)          0         \n",
      "                                                                 \n",
      " lstm_60 (LSTM)              (None, None, 15)          2460      \n",
      "                                                                 \n",
      " lstm_61 (LSTM)              (None, None, 10)          1040      \n",
      "                                                                 \n",
      " dropout_21 (Dropout)        (None, None, 10)          0         \n",
      "                                                                 \n",
      " lstm_62 (LSTM)              (None, None, 10)          840       \n",
      "                                                                 \n",
      " lstm_63 (LSTM)              (None, 5)                 320       \n",
      "                                                                 \n",
      " dense_8 (Dense)             (None, 1)                 6         \n",
      "                                                                 \n",
      "=================================================================\n",
      "Total params: 23,625\n",
      "Trainable params: 23,586\n",
      "Non-trainable params: 39\n",
      "_________________________________________________________________\n"
     ]
    }
   ],
   "source": [
    "model = init_model(X_train, y_train)\n",
    "model.summary()"
   ]
  },
  {
   "cell_type": "markdown",
   "id": "afd13cc0",
   "metadata": {},
   "source": [
    "🛠 🎁 📉 We coded a function `plot_history` for you to visualize the training of your RNN over epochs. This function shows both the evolution of the loss function (MSE) and metrics (MAE)."
   ]
  },
  {
   "cell_type": "code",
   "execution_count": 166,
   "id": "ef015887",
   "metadata": {},
   "outputs": [],
   "source": [
    "def plot_history(history):\n",
    "    \n",
    "    fig, ax = plt.subplots(1,2, figsize=(20,7))\n",
    "    # --- LOSS: MSE --- \n",
    "    ax[0].plot(history.history['loss'])\n",
    "    ax[0].plot(history.history['val_loss'])\n",
    "    ax[0].set_title('MSE')\n",
    "    ax[0].set_ylabel('Loss')\n",
    "    ax[0].set_xlabel('Epoch')\n",
    "    ax[0].legend(['Train', 'Validation'], loc='best')\n",
    "    ax[0].grid(axis=\"x\",linewidth=0.5)\n",
    "    ax[0].grid(axis=\"y\",linewidth=0.5)\n",
    "    \n",
    "    # --- METRICS:MAE ---\n",
    "    \n",
    "    ax[1].plot(history.history['mae'])\n",
    "    ax[1].plot(history.history['val_mae'])\n",
    "    ax[1].set_title('MAE')\n",
    "    ax[1].set_ylabel('MAE')\n",
    "    ax[1].set_xlabel('Epoch')\n",
    "    ax[1].legend(['Train', 'Validation'], loc='best')\n",
    "    ax[1].grid(axis=\"x\",linewidth=0.5)\n",
    "    ax[1].grid(axis=\"y\",linewidth=0.5)\n",
    "                        \n",
    "    return ax"
   ]
  },
  {
   "cell_type": "markdown",
   "id": "5d505088",
   "metadata": {},
   "source": [
    "💻 ❓ **Questions (training and evaluating)** ❓\n",
    "\n",
    "- Code the `fit_model()` method that \n",
    "    - <i>(input)</i> given `model`\n",
    "    - <i>(output)</i> returns the fitted model through a tuple `(model, history)` \n",
    "- Then:\n",
    "    - Initialize an RNN model with the `init_model` function\n",
    "    - <font color=blue>Train</font> the model\n",
    "    - <font color=orange>Evaluate</font> it on the test set"
   ]
  },
  {
   "cell_type": "code",
   "execution_count": 174,
   "id": "136c879f",
   "metadata": {
    "tags": [
     "challengify"
    ]
   },
   "outputs": [],
   "source": [
    "# YOUR CODE HERE\n",
    "def fit_model(model):\n",
    "    history = model.fit(X_train,y_train,epochs=500,validation_split = 0.3,\n",
    "                        batch_size=20,callbacks = [EarlyStopping(patience=5)])\n",
    "    return model,history"
   ]
  },
  {
   "cell_type": "code",
   "execution_count": 175,
   "id": "1bd0f6de",
   "metadata": {},
   "outputs": [
    {
     "name": "stdout",
     "output_type": "stream",
     "text": [
      "Epoch 1/500\n",
      "234/234 [==============================] - 26s 86ms/step - loss: 8.4877 - mae: 8.4877 - val_loss: 7.7460 - val_mae: 7.7460\n",
      "Epoch 2/500\n",
      "234/234 [==============================] - 20s 86ms/step - loss: 7.2507 - mae: 7.2507 - val_loss: 6.7199 - val_mae: 6.7199\n",
      "Epoch 3/500\n",
      "234/234 [==============================] - 20s 85ms/step - loss: 6.3987 - mae: 6.3987 - val_loss: 6.0170 - val_mae: 6.0170\n",
      "Epoch 4/500\n",
      "234/234 [==============================] - 20s 84ms/step - loss: 5.6484 - mae: 5.6484 - val_loss: 5.3345 - val_mae: 5.3345\n",
      "Epoch 5/500\n",
      "234/234 [==============================] - 20s 84ms/step - loss: 5.0028 - mae: 5.0028 - val_loss: 4.7323 - val_mae: 4.7323\n",
      "Epoch 6/500\n",
      "234/234 [==============================] - 20s 84ms/step - loss: 4.4430 - mae: 4.4430 - val_loss: 4.2988 - val_mae: 4.2988\n",
      "Epoch 7/500\n",
      "234/234 [==============================] - 20s 84ms/step - loss: 4.0570 - mae: 4.0570 - val_loss: 3.9776 - val_mae: 3.9776\n",
      "Epoch 8/500\n",
      "234/234 [==============================] - 20s 86ms/step - loss: 3.7055 - mae: 3.7055 - val_loss: 3.7444 - val_mae: 3.7444\n",
      "Epoch 9/500\n",
      "234/234 [==============================] - 20s 84ms/step - loss: 3.4531 - mae: 3.4531 - val_loss: 3.3475 - val_mae: 3.3475\n",
      "Epoch 10/500\n",
      "234/234 [==============================] - 20s 84ms/step - loss: 3.2279 - mae: 3.2279 - val_loss: 3.2081 - val_mae: 3.2081\n",
      "Epoch 11/500\n",
      "234/234 [==============================] - 20s 84ms/step - loss: 3.0697 - mae: 3.0697 - val_loss: 3.0813 - val_mae: 3.0813\n",
      "Epoch 12/500\n",
      "234/234 [==============================] - 20s 84ms/step - loss: 2.9410 - mae: 2.9410 - val_loss: 2.8696 - val_mae: 2.8696\n",
      "Epoch 13/500\n",
      "234/234 [==============================] - 20s 84ms/step - loss: 2.7345 - mae: 2.7345 - val_loss: 2.8444 - val_mae: 2.8444\n",
      "Epoch 14/500\n",
      "234/234 [==============================] - 20s 84ms/step - loss: 2.4976 - mae: 2.4976 - val_loss: 2.5868 - val_mae: 2.5868\n",
      "Epoch 15/500\n",
      "234/234 [==============================] - 20s 84ms/step - loss: 2.3210 - mae: 2.3210 - val_loss: 2.3317 - val_mae: 2.3317\n",
      "Epoch 16/500\n",
      "234/234 [==============================] - 20s 84ms/step - loss: 2.1861 - mae: 2.1861 - val_loss: 2.2250 - val_mae: 2.2250\n",
      "Epoch 17/500\n",
      "234/234 [==============================] - 20s 84ms/step - loss: 2.0637 - mae: 2.0637 - val_loss: 2.2562 - val_mae: 2.2562\n",
      "Epoch 18/500\n",
      "234/234 [==============================] - 20s 84ms/step - loss: 2.0113 - mae: 2.0113 - val_loss: 1.9894 - val_mae: 1.9894\n",
      "Epoch 19/500\n",
      "234/234 [==============================] - 20s 84ms/step - loss: 1.9406 - mae: 1.9406 - val_loss: 1.9874 - val_mae: 1.9874\n",
      "Epoch 20/500\n",
      "234/234 [==============================] - 20s 84ms/step - loss: 1.8754 - mae: 1.8754 - val_loss: 1.8480 - val_mae: 1.8480\n",
      "Epoch 21/500\n",
      "234/234 [==============================] - 20s 84ms/step - loss: 1.8026 - mae: 1.8026 - val_loss: 1.9816 - val_mae: 1.9816\n",
      "Epoch 22/500\n",
      "234/234 [==============================] - 20s 84ms/step - loss: 1.7486 - mae: 1.7486 - val_loss: 1.8174 - val_mae: 1.8174\n",
      "Epoch 23/500\n",
      "234/234 [==============================] - 20s 84ms/step - loss: 1.7080 - mae: 1.7080 - val_loss: 1.7620 - val_mae: 1.7620\n",
      "Epoch 24/500\n",
      "234/234 [==============================] - 20s 85ms/step - loss: 1.6767 - mae: 1.6767 - val_loss: 1.8075 - val_mae: 1.8075\n",
      "Epoch 25/500\n",
      "234/234 [==============================] - 20s 84ms/step - loss: 1.6522 - mae: 1.6522 - val_loss: 1.7159 - val_mae: 1.7159\n",
      "Epoch 26/500\n",
      "234/234 [==============================] - 20s 84ms/step - loss: 1.5976 - mae: 1.5976 - val_loss: 1.8830 - val_mae: 1.8830\n",
      "Epoch 27/500\n",
      "234/234 [==============================] - 20s 84ms/step - loss: 1.5863 - mae: 1.5863 - val_loss: 1.6626 - val_mae: 1.6626\n",
      "Epoch 28/500\n",
      "234/234 [==============================] - 20s 85ms/step - loss: 1.5547 - mae: 1.5547 - val_loss: 1.6469 - val_mae: 1.6469\n",
      "Epoch 29/500\n",
      "234/234 [==============================] - 20s 85ms/step - loss: 1.5161 - mae: 1.5161 - val_loss: 1.6532 - val_mae: 1.6532\n",
      "Epoch 30/500\n",
      "234/234 [==============================] - 20s 84ms/step - loss: 1.4775 - mae: 1.4775 - val_loss: 1.5757 - val_mae: 1.5757\n",
      "Epoch 31/500\n",
      "234/234 [==============================] - 20s 85ms/step - loss: 1.4744 - mae: 1.4744 - val_loss: 1.6319 - val_mae: 1.6319\n",
      "Epoch 32/500\n",
      "234/234 [==============================] - 20s 84ms/step - loss: 1.4457 - mae: 1.4457 - val_loss: 1.5587 - val_mae: 1.5587\n",
      "Epoch 33/500\n",
      "234/234 [==============================] - 20s 84ms/step - loss: 1.4276 - mae: 1.4276 - val_loss: 1.4806 - val_mae: 1.4806\n",
      "Epoch 34/500\n",
      "234/234 [==============================] - 20s 84ms/step - loss: 1.4048 - mae: 1.4048 - val_loss: 1.5356 - val_mae: 1.5356\n",
      "Epoch 35/500\n",
      "234/234 [==============================] - 20s 84ms/step - loss: 1.3784 - mae: 1.3784 - val_loss: 1.5470 - val_mae: 1.5470\n",
      "Epoch 36/500\n",
      "234/234 [==============================] - 20s 84ms/step - loss: 1.3793 - mae: 1.3793 - val_loss: 1.8576 - val_mae: 1.8576\n",
      "Epoch 37/500\n",
      "234/234 [==============================] - 20s 84ms/step - loss: 1.3497 - mae: 1.3497 - val_loss: 1.4663 - val_mae: 1.4663\n",
      "Epoch 38/500\n",
      "234/234 [==============================] - 20s 84ms/step - loss: 1.3291 - mae: 1.3291 - val_loss: 1.5097 - val_mae: 1.5097\n",
      "Epoch 39/500\n",
      "234/234 [==============================] - 20s 84ms/step - loss: 1.3201 - mae: 1.3201 - val_loss: 1.4373 - val_mae: 1.4373\n",
      "Epoch 40/500\n",
      "234/234 [==============================] - 20s 84ms/step - loss: 1.2982 - mae: 1.2982 - val_loss: 1.3676 - val_mae: 1.3676\n",
      "Epoch 41/500\n",
      "234/234 [==============================] - 20s 84ms/step - loss: 1.2901 - mae: 1.2901 - val_loss: 1.5266 - val_mae: 1.5266\n",
      "Epoch 42/500\n",
      "234/234 [==============================] - 20s 84ms/step - loss: 1.2667 - mae: 1.2667 - val_loss: 1.3265 - val_mae: 1.3265\n",
      "Epoch 43/500\n",
      "234/234 [==============================] - 20s 84ms/step - loss: 1.2605 - mae: 1.2605 - val_loss: 1.4893 - val_mae: 1.4893\n",
      "Epoch 44/500\n",
      "234/234 [==============================] - 20s 84ms/step - loss: 1.2570 - mae: 1.2570 - val_loss: 1.5477 - val_mae: 1.5477\n",
      "Epoch 45/500\n",
      "234/234 [==============================] - 20s 84ms/step - loss: 1.2268 - mae: 1.2268 - val_loss: 1.4930 - val_mae: 1.4930\n",
      "Epoch 46/500\n",
      "234/234 [==============================] - 20s 84ms/step - loss: 1.2270 - mae: 1.2270 - val_loss: 1.3126 - val_mae: 1.3126\n",
      "Epoch 47/500\n",
      "234/234 [==============================] - 20s 84ms/step - loss: 1.2011 - mae: 1.2011 - val_loss: 1.3989 - val_mae: 1.3989\n",
      "Epoch 48/500\n",
      "234/234 [==============================] - 20s 84ms/step - loss: 1.2013 - mae: 1.2013 - val_loss: 1.4628 - val_mae: 1.4628\n",
      "Epoch 49/500\n",
      "234/234 [==============================] - 20s 84ms/step - loss: 1.1884 - mae: 1.1884 - val_loss: 1.3214 - val_mae: 1.3214\n",
      "Epoch 50/500\n",
      "234/234 [==============================] - 20s 84ms/step - loss: 1.1806 - mae: 1.1806 - val_loss: 1.3687 - val_mae: 1.3687\n",
      "Epoch 51/500\n",
      "234/234 [==============================] - 20s 84ms/step - loss: 1.1551 - mae: 1.1551 - val_loss: 1.2917 - val_mae: 1.2917\n",
      "Epoch 52/500\n",
      "234/234 [==============================] - 20s 84ms/step - loss: 1.1491 - mae: 1.1491 - val_loss: 1.2733 - val_mae: 1.2733\n",
      "Epoch 53/500\n",
      "234/234 [==============================] - 20s 84ms/step - loss: 1.1349 - mae: 1.1349 - val_loss: 1.3231 - val_mae: 1.3231\n",
      "Epoch 54/500\n",
      "234/234 [==============================] - 20s 84ms/step - loss: 1.1455 - mae: 1.1455 - val_loss: 1.3558 - val_mae: 1.3558\n",
      "Epoch 55/500\n",
      "234/234 [==============================] - 20s 84ms/step - loss: 1.1379 - mae: 1.1379 - val_loss: 1.3983 - val_mae: 1.3983\n",
      "Epoch 56/500\n",
      "234/234 [==============================] - 20s 84ms/step - loss: 1.1232 - mae: 1.1232 - val_loss: 1.2478 - val_mae: 1.2478\n",
      "Epoch 57/500\n",
      "234/234 [==============================] - 20s 84ms/step - loss: 1.1190 - mae: 1.1190 - val_loss: 1.2644 - val_mae: 1.2644\n",
      "Epoch 58/500\n",
      "234/234 [==============================] - 20s 84ms/step - loss: 1.1242 - mae: 1.1242 - val_loss: 1.2338 - val_mae: 1.2338\n",
      "Epoch 59/500\n",
      "234/234 [==============================] - 20s 84ms/step - loss: 1.1003 - mae: 1.1003 - val_loss: 1.2949 - val_mae: 1.2949\n",
      "Epoch 60/500\n",
      "234/234 [==============================] - 20s 84ms/step - loss: 1.0893 - mae: 1.0893 - val_loss: 1.1951 - val_mae: 1.1951\n",
      "Epoch 61/500\n"
     ]
    },
    {
     "name": "stdout",
     "output_type": "stream",
     "text": [
      "234/234 [==============================] - 20s 84ms/step - loss: 1.0902 - mae: 1.0902 - val_loss: 1.5012 - val_mae: 1.5012\n",
      "Epoch 62/500\n",
      "234/234 [==============================] - 20s 84ms/step - loss: 1.0780 - mae: 1.0780 - val_loss: 1.2318 - val_mae: 1.2318\n",
      "Epoch 63/500\n",
      "234/234 [==============================] - 20s 84ms/step - loss: 1.0794 - mae: 1.0794 - val_loss: 1.2985 - val_mae: 1.2985\n",
      "Epoch 64/500\n",
      "234/234 [==============================] - 20s 84ms/step - loss: 1.0736 - mae: 1.0736 - val_loss: 1.1627 - val_mae: 1.1627\n",
      "Epoch 65/500\n",
      "234/234 [==============================] - 20s 84ms/step - loss: 1.0673 - mae: 1.0673 - val_loss: 1.2250 - val_mae: 1.2250\n",
      "Epoch 66/500\n",
      "234/234 [==============================] - 20s 84ms/step - loss: 1.0484 - mae: 1.0484 - val_loss: 1.1899 - val_mae: 1.1899\n",
      "Epoch 67/500\n",
      "234/234 [==============================] - 20s 84ms/step - loss: 1.0451 - mae: 1.0451 - val_loss: 1.2113 - val_mae: 1.2113\n",
      "Epoch 68/500\n",
      "234/234 [==============================] - 20s 84ms/step - loss: 1.0589 - mae: 1.0589 - val_loss: 1.1286 - val_mae: 1.1286\n",
      "Epoch 69/500\n",
      "234/234 [==============================] - 20s 84ms/step - loss: 1.0288 - mae: 1.0288 - val_loss: 1.1306 - val_mae: 1.1306\n",
      "Epoch 70/500\n",
      "234/234 [==============================] - 20s 84ms/step - loss: 1.0175 - mae: 1.0175 - val_loss: 1.1385 - val_mae: 1.1385\n",
      "Epoch 71/500\n",
      "234/234 [==============================] - 20s 84ms/step - loss: 1.0229 - mae: 1.0229 - val_loss: 1.3093 - val_mae: 1.3093\n",
      "Epoch 72/500\n",
      "234/234 [==============================] - 20s 84ms/step - loss: 1.0007 - mae: 1.0007 - val_loss: 1.2465 - val_mae: 1.2465\n",
      "Epoch 73/500\n",
      "234/234 [==============================] - 20s 84ms/step - loss: 1.0299 - mae: 1.0299 - val_loss: 1.3382 - val_mae: 1.3382\n"
     ]
    }
   ],
   "source": [
    "model = init_model(X_train, y_train)\n",
    "model,history = fit_model(model)"
   ]
  },
  {
   "cell_type": "code",
   "execution_count": 176,
   "id": "db9a0d28",
   "metadata": {},
   "outputs": [
    {
     "data": {
      "text/plain": [
       "array([<AxesSubplot:title={'center':'MSE'}, xlabel='Epoch', ylabel='Loss'>,\n",
       "       <AxesSubplot:title={'center':'MAE'}, xlabel='Epoch', ylabel='MAE'>],\n",
       "      dtype=object)"
      ]
     },
     "execution_count": 176,
     "metadata": {},
     "output_type": "execute_result"
    },
    {
     "data": {
      "image/png": "[encoded data removed]",
      "text/plain": [
       "<Figure size 2000x700 with 2 Axes>"
      ]
     },
     "metadata": {},
     "output_type": "display_data"
    }
   ],
   "source": [
    "plot_history(history)"
   ]
  },
  {
   "cell_type": "markdown",
   "id": "af3e9ba9",
   "metadata": {},
   "source": [
    "## (2.2) 💻 A Baseline Model to compare our LSTM with!"
   ]
  },
  {
   "cell_type": "markdown",
   "id": "aa226e7f",
   "metadata": {},
   "source": [
    "👉 In Time Series, an \"intuitive\" baseline model is to predict the **last seen value** for the future value(s) you want to forecast, as illustrated down below!\n",
    "\n",
    "<img src = \"https://github.com/lewagon/data-images/blob/master/DL/rnn_time_series_no_horizon.png?raw=true\" width = 600, height = 300>"
   ]
  },
  {
   "cell_type": "markdown",
   "id": "0f4186e0",
   "metadata": {},
   "source": [
    "💻 ❓ **Question (Last Seen Value Baseline Model)** ❓ \n",
    "\n",
    "Create a new method `init_baseline` that initializes and compiles a baseline model in a similar way to the LSTM.\n",
    "\n",
    "- The baseline should be as a [📚 Keras Lambda Layer](https://www.tensorflow.org/api_docs/python/tf/keras/layers/Lambda)\n",
    "- It should not even need a `fit` because it should have 0 trainable params\n",
    "- Then, compute the MAE for this FOLD and compare it with the MAE you obtained on the test set after training the LSTM \n",
    " \n",
    "<details>\n",
    "    <summary markdown='span'>💡 <i>Hint</i></summary>\n",
    "\n",
    "- Remember that `X_train[:,:,1]` is your temperature time-series (it's the second column in your `fold`) \n",
    "</details>\n"
   ]
  },
  {
   "cell_type": "code",
   "execution_count": 202,
   "id": "9a383ef2",
   "metadata": {},
   "outputs": [
    {
     "data": {
      "text/plain": [
       "-4.63"
      ]
     },
     "execution_count": 202,
     "metadata": {},
     "output_type": "execute_result"
    }
   ],
   "source": [
    "X_train[-1,-1,1]"
   ]
  },
  {
   "cell_type": "code",
   "execution_count": 211,
   "id": "eabd6a04",
   "metadata": {},
   "outputs": [],
   "source": [
    "from tensorflow.keras.layers import Lambda\n",
    "\n",
    "def init_baseline():\n",
    "    model = models.Sequential()\n",
    "    model.add(layers.Lambda(lambda x: tf.reduce_mean(x[:, :, 1], axis=1), input_shape=X_train.shape[1:], trainable=False))\n",
    "    model.add(layers.Lambda(lambda x: tf.expand_dims(x, axis=-1)))\n",
    "    model.add(layers.Dense(1, activation='linear'))\n",
    "    model.compile(optimizer='rmsprop', loss='mae', metrics=['mae'])\n",
    "    \n",
    "    return model"
   ]
  },
  {
   "cell_type": "code",
   "execution_count": 214,
   "id": "78fd4e4f",
   "metadata": {},
   "outputs": [
    {
     "name": "stdout",
     "output_type": "stream",
     "text": [
      "105/105 [==============================] - 0s 325us/step - loss: 20.0622 - mae: 20.0622\n",
      "- The Baseline MAE on the test set is equal to 20.06 Celsius degrees\n"
     ]
    }
   ],
   "source": [
    "baseline_model = init_baseline()\n",
    "res = baseline_score = baseline_model.evaluate(X_test, y_test)\n",
    "print(f\"- The Baseline MAE on the test set is equal to {round(baseline_score[1],2)} Celsius degrees\")"
   ]
  },
  {
   "cell_type": "code",
   "execution_count": 215,
   "id": "0dd4ab4e",
   "metadata": {},
   "outputs": [
    {
     "name": "stdout",
     "output_type": "stream",
     "text": [
      "- The LSTM MAE on the test set is equal to 20.06 Celsius degrees\n",
      "🔥 Improvement of the LSTM model over the baseline (on this fold for the test set) = : 0.0 % 🔥\n"
     ]
    }
   ],
   "source": [
    "print(f\"- The LSTM MAE on the test set is equal to {round(res[1],2)} Celsius degrees\")\n",
    "print(f\"🔥 Improvement of the LSTM model over the baseline (on this fold for the test set) = : {round((1 - (res[1]/baseline_score[1]))*100,2)} % 🔥\")"
   ]
  },
  {
   "cell_type": "markdown",
   "id": "84172a0c",
   "metadata": {},
   "source": [
    "## (2.3) 💻 Cross-Validation"
   ]
  },
  {
   "cell_type": "markdown",
   "id": "c2574238",
   "metadata": {},
   "source": [
    "Remember **\"The big picture\"** ? \n",
    "\n",
    "<br>\n",
    "\n",
    "<details>\n",
    "    <summary markdown='span'><i>The big picture</i></summary>\n",
    "\n",
    "\n",
    "<b><u>Step 1: Cross-Validation in Time Series [FOLDS] </u></b>\n",
    "\n",
    "* Starting from this single Time Series, we will create <font color=\"#c91ac9\">**FOLDS**</font>...\n",
    "* ... and train/evaluate our LSTM on these different <font color=\"#c91ac9\">**FOLDS**</font> to conclude about the robustness of the neural network\n",
    "* It is very common to create ***hundreds*** of <font color=\"#c91ac9\">**FOLDS**</font> in Time Series forecasting, so as to cover all type of external conditions: e.g.\n",
    "    - crash market periods 📉\n",
    "    - bull markets 📈\n",
    "    - atone markets 😴, etc...\n",
    "\n",
    "<b><u>Step 2: Holdout method within each fold [TRAIN-TEST SPLIT]</u></b>\n",
    "\n",
    "* For each <font color=\"#c91ac9\">**FOLD**</font>, we will do a TRAIN-TEST SPLIT to:\n",
    "    * <font color=blue>**fit**</font> the model on the <font color=blue>**train**</font> set \n",
    "    * and <font color=\"#ff8005\">**evaluate**</font> it on the <font color=\"#ff8005\">**test**</font> set\n",
    "    * Always split the train set **chronologically** before the test set!\n",
    "\n",
    "👇 The first two steps can be summarized in the following image that contains 4 FOLDS:\n",
    "\n",
    "<img src=\"https://bit.ly/3yLoa92\" alt=\"Time Series Cross Validation\" width=\"500\" height=\"500\">\n",
    "\n",
    "\n",
    "<b><u>Step 3: Sampling SEQUENCES in both the train set and the test set</u></b>\n",
    "\n",
    "In each <font color=blue>**train**</font> set and each <font color=\"#ff8005\">**test**</font> set, we will create <font color=magenta>**random sequences**</font> as illustrated down below 👇:\n",
    "\n",
    "<img src=\"https://bit.ly/3Ri8Vfd\" alt=\"Sequences in each fold\" width=\"500\" height=\"500\"> \n",
    "\n",
    "\n",
    "</details>\n",
    "\n",
    "❗️ ***Warnings*** ❗️\n",
    "\n",
    "* Keep in mind that we did <u><i>step 2</i></u> (<font color=\"blue\">train</font>/<font color=\"orange\">test</font> split) and <u><i>step 3</i></u> (get_X_y) only **<font color=\"#c91ac9\">for one single FOLD</font>**. \n",
    "* ***If we want to ensure the robustness of a model, we need to <font color=\"\">cross-validate the model on <font color=\"#c91ac9\">ALL the folds</font>!***\n"
   ]
  },
  {
   "cell_type": "code",
   "execution_count": 216,
   "id": "db044d6f",
   "metadata": {},
   "outputs": [
    {
     "name": "stdout",
     "output_type": "stream",
     "text": [
      "N_FEATURES = 19\n",
      "N_TARGETS = 1\n",
      "\n",
      "FOLD_LENGTH = 8760\n",
      "FOLD_STRIDE = 728\n",
      "TRAIN_TEST_RATIO = 0.66\n",
      "\n",
      "N_TRAIN = 6666\n",
      "N_TEST = 3333\n",
      "INPUT_LENGTH = 112\n",
      "OUTPUT_LENGTH = 1\n"
     ]
    }
   ],
   "source": [
    "# Reminders of the global variables in this notebook\n",
    "\n",
    "print(f'N_FEATURES = {N_FEATURES}') \n",
    "print(f'N_TARGETS = {N_TARGETS}') \n",
    "print('')\n",
    "print(f'FOLD_LENGTH = {FOLD_LENGTH}')\n",
    "print(f'FOLD_STRIDE = {FOLD_STRIDE}')\n",
    "print(f'TRAIN_TEST_RATIO = {TRAIN_TEST_RATIO}')\n",
    "print('')\n",
    "print(f'N_TRAIN = {N_TRAIN}')\n",
    "print(f'N_TEST = {N_TEST}')\n",
    "print(f'INPUT_LENGTH = {INPUT_LENGTH}')\n",
    "print(f'OUTPUT_LENGTH = {OUTPUT_LENGTH}')\n"
   ]
  },
  {
   "cell_type": "code",
   "execution_count": 217,
   "id": "16b7b92c",
   "metadata": {},
   "outputs": [
    {
     "name": "stdout",
     "output_type": "stream",
     "text": [
      "WARNING, we have 21 FOLDS, so you may want to run the cross-validation of the RNN on Colab.\n"
     ]
    }
   ],
   "source": [
    "# Remember how many folds do we have ?\n",
    "folds = get_folds(df, FOLD_LENGTH, FOLD_STRIDE)\n",
    "\n",
    "print(f\"WARNING, we have {len(folds)} FOLDS, so you may want to run the cross-validation of the RNN on Colab.\")"
   ]
  },
  {
   "cell_type": "markdown",
   "id": "39202832",
   "metadata": {},
   "source": [
    "💻 **❓ Cross validate your baseline and your model in a for-loop!❓**\n",
    "\n",
    "Re-using your previously defined methods\n",
    "- `get_folds`\n",
    "- `train_test_split`\n",
    "- `get_X_y`\n",
    "- `init_model`\n",
    "- `init_baseline`"
   ]
  },
  {
   "cell_type": "code",
   "execution_count": 218,
   "id": "2829fef0",
   "metadata": {},
   "outputs": [],
   "source": [
    "from tensorflow.keras.callbacks import EarlyStopping\n",
    "\n",
    "def cross_validate_baseline_and_lstm():\n",
    "    '''\n",
    "    This function cross-validates \n",
    "    - the \"last seen value\" baseline model\n",
    "    - the RNN model\n",
    "    '''\n",
    "    \n",
    "    list_of_mae_baseline_model = []\n",
    "    list_of_mae_recurrent_model = []\n",
    "    \n",
    "    # 0 - Creating folds\n",
    "    # =========================================    \n",
    "    folds = get_folds(df, FOLD_LENGTH, FOLD_STRIDE)\n",
    "    \n",
    "    for fold_id, fold in enumerate(folds):\n",
    "        \n",
    "        # 1 - Train/Test split the current fold\n",
    "        # =========================================\n",
    "        (fold_train, fold_test) = train_test_split(fold, TRAIN_TEST_RATIO, INPUT_LENGTH)                   \n",
    "\n",
    "        X_train, y_train = get_X_y(fold_train, N_TRAIN, INPUT_LENGTH, OUTPUT_LENGTH)\n",
    "        X_test, y_test = get_X_y(fold_test, N_TEST, INPUT_LENGTH, OUTPUT_LENGTH)\n",
    "        \n",
    "        # 2 - Modelling\n",
    "        # =========================================\n",
    "        \n",
    "        ##### Baseline Model\n",
    "        baseline_model = init_baseline()\n",
    "        mae_baseline = baseline_model.evaluate(X_test, y_test, verbose=0)[1]\n",
    "        list_of_mae_baseline_model.append(mae_baseline)\n",
    "        print(\"-\"*50)\n",
    "        print(f\"MAE baseline fold n°{fold_id} = {round(mae_baseline, 2)}\")\n",
    "\n",
    "        ##### LSTM Model\n",
    "        model = init_model(X_train, y_train)\n",
    "        es = EarlyStopping(monitor = \"val_mae\",\n",
    "                           mode = \"min\",\n",
    "                           patience = 2, \n",
    "                           restore_best_weights = True)\n",
    "        history = model.fit(X_train, y_train,\n",
    "                            validation_split = 0.3,\n",
    "                            shuffle = False,\n",
    "                            batch_size = 32,\n",
    "                            epochs = 50,\n",
    "                            callbacks = [es],\n",
    "                            verbose = 0)\n",
    "        res = model.evaluate(X_test, y_test, verbose=0)\n",
    "        mae_lstm = res[1]\n",
    "        list_of_mae_recurrent_model.append(mae_lstm)\n",
    "        print(f\"MAE LSTM fold n°{fold_id} = {round(mae_lstm, 2)}\")\n",
    "        \n",
    "        ##### Comparison LSTM vs Baseline for the current fold\n",
    "        print(f\"🏋🏽‍♂️ improvement over baseline: {round((1 - (mae_lstm/mae_baseline))*100,2)} % \\n\")\n",
    "\n",
    "    return list_of_mae_baseline_model, list_of_mae_recurrent_model"
   ]
  },
  {
   "cell_type": "code",
   "execution_count": null,
   "id": "5eb95e75",
   "metadata": {},
   "outputs": [
    {
     "name": "stdout",
     "output_type": "stream",
     "text": [
      "--------------------------------------------------\n",
      "MAE baseline fold n°0 = 15.61\n",
      "MAE LSTM fold n°0 = 3.05\n",
      "🏋🏽‍♂️ improvement over baseline: 80.47 % \n",
      "\n",
      "--------------------------------------------------\n",
      "MAE baseline fold n°1 = 3.98\n",
      "MAE LSTM fold n°1 = 4.24\n",
      "🏋🏽‍♂️ improvement over baseline: -6.49 % \n",
      "\n",
      "--------------------------------------------------\n",
      "MAE baseline fold n°2 = 18.37\n"
     ]
    }
   ],
   "source": [
    "%%time\n",
    "# WARNING : it takes 75 minutes to run this cell \n",
    "mae_baselines, mae_lstms = cross_validate_baseline_and_lstm()"
   ]
  },
  {
   "cell_type": "code",
   "execution_count": null,
   "id": "b5bb356d",
   "metadata": {},
   "outputs": [],
   "source": [
    "print(f\"average percentage improvement over baseline = {round(np.mean(1 - (np.array(mae_lstms)/np.array(mae_baselines))),2)*100}%\")"
   ]
  },
  {
   "cell_type": "code",
   "execution_count": null,
   "id": "19493d17",
   "metadata": {},
   "outputs": [],
   "source": [
    "!git add .\n",
    "!git commit -m\"done\"\n",
    "!git push origin master"
   ]
  },
  {
   "cell_type": "markdown",
   "id": "0a0bcd78",
   "metadata": {},
   "source": [
    "## Acknowledgments"
   ]
  },
  {
   "cell_type": "markdown",
   "id": "378cc282",
   "metadata": {},
   "source": [
    "* This challenge was truly inspired by the `Time Series Forecasting` tutorial from `Google>Tensorflow>Keras`\n",
    "* The technical functions were inspired by Bruno Lajoie's [data-template package about Time Series](https://github.com/lewagon/data-templates/tree/main/project-boilerplates)"
   ]
  },
  {
   "cell_type": "markdown",
   "id": "f349f131",
   "metadata": {},
   "source": [
    "# (Bonus) The original dataset "
   ]
  },
  {
   "cell_type": "markdown",
   "id": "cd9853be",
   "metadata": {},
   "source": [
    "🥋 If you want to practice your feature engineering skills, feel free to come back to this challenge later, download the original dataset and work on it."
   ]
  },
  {
   "cell_type": "code",
   "execution_count": null,
   "id": "24357ff1",
   "metadata": {},
   "outputs": [],
   "source": [
    "#########################################################\n",
    "# Uncomment later -not today- to download the original  #\n",
    "# dataset and try to perform the features engineering   #\n",
    "# by yourself                                           #\n",
    "#########################################################\n",
    "\n",
    "\n",
    "zip_path = tf.keras.utils.get_file(\n",
    "    origin='https://storage.googleapis.com/tensorflow/tf-keras-datasets/jena_climate_2009_2016.csv.zip',\n",
    "    fname='jena_climate_2009_2016.csv.zip',\n",
    "    extract=True)\n",
    "csv_path, _ = os.path.splitext(zip_path)\n",
    "\n",
    "raw = pd.read_csv(csv_path)\n",
    "\n",
    "print(f\"raw.shape = {raw.shape}\")\n",
    "display(raw.head())"
   ]
  },
  {
   "cell_type": "code",
   "execution_count": null,
   "id": "fa35bb93",
   "metadata": {},
   "outputs": [],
   "source": [
    "# Inspecting each feature to detect their type and null values\n",
    "raw.info()"
   ]
  },
  {
   "cell_type": "code",
   "execution_count": null,
   "id": "742d9405",
   "metadata": {},
   "outputs": [],
   "source": [
    "# Slice [start:stop:step], \n",
    "# starting from index 5, take every 6th record\n",
    "# to get only hourly records\n",
    "\n",
    "pass  # YOUR CODE HERE"
   ]
  },
  {
   "cell_type": "code",
   "execution_count": null,
   "id": "899e65bf",
   "metadata": {},
   "outputs": [],
   "source": [
    "# Convert the \"Date Time\" column to a datetime format\n",
    "\n",
    "pass  # YOUR CODE HERE"
   ]
  },
  {
   "cell_type": "code",
   "execution_count": null,
   "id": "38148964",
   "metadata": {},
   "outputs": [],
   "source": [
    "# Describe the dataset\n",
    "\n",
    "pass  # YOUR CODE HERE"
   ]
  },
  {
   "cell_type": "code",
   "execution_count": null,
   "id": "f174438f",
   "metadata": {},
   "outputs": [],
   "source": [
    "## Fixing the wv, look at the absurd values and replace them with zero\n",
    "\n",
    "pass  # YOUR CODE HERE\n",
    "\n",
    "## Fixing the max wv\n",
    "\n",
    "pass  # YOUR CODE HERE"
   ]
  },
  {
   "cell_type": "code",
   "execution_count": null,
   "id": "0226ac1a",
   "metadata": {},
   "outputs": [],
   "source": [
    "# Wind : Wd degrees from 0 to 360 egrees\n",
    "# Angles do not make good models inputs because 0 and 360 should be \"close\"\n",
    "\n",
    "print('-'*50)\n",
    "print(\"Working with angles...\")\n",
    "\n",
    "plt.hist2d(df['wd (deg)'], df['wv (m/s)'], \n",
    "           bins=(50, 50), \n",
    "           vmax=400)\n",
    "plt.colorbar()\n",
    "plt.xlabel('Wind Direction [deg]')\n",
    "plt.ylabel('Wind Velocity [m/s]')\n",
    "plt.show()\n",
    "\n",
    "# It is much easier for the model to interpret\n",
    "# the wind direction and the wind velocity through a vector\n",
    "\n",
    "\n",
    "# Convert degrees to radians and store the values into wd_rad\n",
    "pass  # YOUR CODE HERE\n",
    "\n",
    "# Calculate the wind x and y components and store then in two new columns\n",
    "# `Wx` and `Wy`\n",
    "pass  # YOUR CODE HERE\n",
    "\n",
    "# Calculate the max wind x and y components and store then in two new columns\n",
    "# `max Wx` and `max Wy`\n",
    "pass  # YOUR CODE HERE\n",
    "\n",
    "print('-'*50)\n",
    "print(\"Working with wind vectors\")\n",
    "\n",
    "plt.hist2d(df['Wx'], df['Wy'], \n",
    "           bins=(50, 50), vmax=400)\n",
    "plt.colorbar()\n",
    "plt.xlabel('Wind X [m/s]')\n",
    "plt.ylabel('Wind Y [m/s]')\n",
    "ax = plt.gca()\n",
    "ax.axis('tight')\n",
    "plt.show()\n",
    "\n",
    "# $CHALLENGIFY_END"
   ]
  },
  {
   "cell_type": "code",
   "execution_count": null,
   "id": "a5d39ba1",
   "metadata": {},
   "outputs": [],
   "source": [
    "# Similarly to the wind direction, the time in seconds is not a useful model input\n",
    "# The weather dataset has clear daily and yearly periodicities\n",
    "# Using sine and cosine functions, we can compute:\n",
    "# - the time of the day\n",
    "# - the time of the year\n",
    "\n",
    "pass  # YOUR CODE HERE"
   ]
  },
  {
   "cell_type": "code",
   "execution_count": null,
   "id": "a339ed10",
   "metadata": {},
   "outputs": [],
   "source": [
    "# Select every 3 hours \n",
    "\n",
    "pass  # YOUR CODE HERE"
   ]
  }
 ],
 "metadata": {
  "kernelspec": {
   "display_name": "Python 3 (ipykernel)",
   "language": "python",
   "name": "python3"
  },
  "language_info": {
   "codemirror_mode": {
    "name": "ipython",
    "version": 3
   },
   "file_extension": ".py",
   "mimetype": "text/x-python",
   "name": "python",
   "nbconvert_exporter": "python",
   "pygments_lexer": "ipython3",
   "version": "3.10.6"
  },
  "toc": {
   "base_numbering": 1,
   "nav_menu": {},
   "number_sections": true,
   "sideBar": true,
   "skip_h1_title": false,
   "title_cell": "Table of Contents",
   "title_sidebar": "Contents",
   "toc_cell": false,
   "toc_position": {},
   "toc_section_display": true,
   "toc_window_display": false
  }
 },
 "nbformat": 4,
 "nbformat_minor": 5
}
